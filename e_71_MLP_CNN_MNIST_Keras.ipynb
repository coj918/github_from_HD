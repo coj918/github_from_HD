{
  "cells": [
    {
      "cell_type": "markdown",
      "metadata": {
        "id": "JIe7bYJMtrfN"
      },
      "source": [
        "# MLP, CNN 이해\n",
        "\n",
        "- MNIST 이미지 인식\n",
        "- GPU를 사용하려면 colab에서 실행"
      ]
    },
    {
      "cell_type": "markdown",
      "metadata": {
        "id": "KgdGePlzlWv0"
      },
      "source": [
        "# import"
      ]
    },
    {
      "cell_type": "code",
      "execution_count": null,
      "metadata": {
        "id": "BHU57hNXmKIP"
      },
      "outputs": [],
      "source": [
        "# 아래는 한번만 설치하면 됨\n",
        "# !pip install tensorflow"
      ]
    },
    {
      "cell_type": "code",
      "execution_count": 5,
      "metadata": {
        "id": "racEBTb_ZzV7"
      },
      "outputs": [],
      "source": [
        "import numpy as np\n",
        "import matplotlib.pyplot as plt\n",
        "import keras\n",
        "\n",
        "%matplotlib inline\n",
        "%config InlineBackend.figure_format = 'retina'"
      ]
    },
    {
      "cell_type": "code",
      "execution_count": 6,
      "metadata": {
        "id": "-AQRftuEqGqx"
      },
      "outputs": [],
      "source": [
        "from keras.datasets import mnist\n",
        "from keras.utils import to_categorical\n",
        "from keras import layers\n",
        "from keras import models"
      ]
    },
    {
      "cell_type": "markdown",
      "metadata": {
        "id": "JUaSP2MbtRiS"
      },
      "source": [
        "# MNIST 데이터"
      ]
    },
    {
      "cell_type": "code",
      "execution_count": 7,
      "metadata": {
        "id": "vRUwM8gvqToI",
        "colab": {
          "base_uri": "https://localhost:8080/"
        },
        "outputId": "7e5f1471-7a18-42c7-ced8-c5fbcfdbeb80"
      },
      "outputs": [
        {
          "output_type": "stream",
          "name": "stdout",
          "text": [
            "Downloading data from https://storage.googleapis.com/tensorflow/tf-keras-datasets/mnist.npz\n",
            "11490434/11490434 [==============================] - 0s 0us/step\n"
          ]
        }
      ],
      "source": [
        "(train_images, train_labels), (test_images, test_labels) = mnist.load_data()"
      ]
    },
    {
      "cell_type": "code",
      "execution_count": 8,
      "metadata": {
        "colab": {
          "base_uri": "https://localhost:8080/"
        },
        "id": "vTWfRgN5ZzV_",
        "outputId": "d5f2010f-4c42-4515-da0d-c3dd2c3c6f21"
      },
      "outputs": [
        {
          "output_type": "execute_result",
          "data": {
            "text/plain": [
              "(60000, 28, 28)"
            ]
          },
          "metadata": {},
          "execution_count": 8
        }
      ],
      "source": [
        "train_images.shape"
      ]
    },
    {
      "cell_type": "markdown",
      "metadata": {
        "id": "uWv34ReXmKIS"
      },
      "source": [
        "## 이미지 데이터 보기"
      ]
    },
    {
      "cell_type": "code",
      "execution_count": 9,
      "metadata": {
        "colab": {
          "base_uri": "https://localhost:8080/",
          "height": 197
        },
        "id": "Ni89MQNBlpC2",
        "outputId": "23b6557b-6db3-49bd-e2bf-8d2cc3b15611"
      },
      "outputs": [
        {
          "output_type": "display_data",
          "data": {
            "text/plain": [
              "<Figure size 1000x300 with 5 Axes>"
            ],
            "image/png": "[encoded data removed]"
          },
          "metadata": {
            "image/png": {
              "width": 822,
              "height": 180
            }
          }
        }
      ],
      "source": [
        "fig, axes = plt.subplots(1, 5, figsize=(10, 3))  #subplot 이미지를 작게 나눠라. 1열에 5개의 box가 있는 이미지로 나눠라.\n",
        "for i in range(5):\n",
        "    axes[i].imshow(train_images[i], cmap=plt.cm.binary)   #imshow 그림을 그려라. (매트릭스에 대해서)\n",
        "plt.show()"
      ]
    },
    {
      "cell_type": "code",
      "execution_count": 6,
      "metadata": {
        "colab": {
          "base_uri": "https://localhost:8080/"
        },
        "id": "C_a3kWryZzV_",
        "outputId": "8ad1ed34-07b4-4dbf-cb25-b52a525c7d33"
      },
      "outputs": [
        {
          "output_type": "execute_result",
          "data": {
            "text/plain": [
              "array([5, 0, 4, 1, 9], dtype=uint8)"
            ]
          },
          "metadata": {},
          "execution_count": 6
        }
      ],
      "source": [
        "train_labels[:5]   # 이 이미지를 주고 맞춰랑. 50419 5개를... /"
      ]
    },
    {
      "cell_type": "code",
      "source": [
        "#train_images[0] #5에 대한 값.\n",
        "train_images[0].reshape(-1,28*28)"
      ],
      "metadata": {
        "colab": {
          "base_uri": "https://localhost:8080/"
        },
        "id": "jGb3SV5o51xk",
        "outputId": "659d47e5-4365-43a2-a195-fa6b642b2029"
      },
      "execution_count": 8,
      "outputs": [
        {
          "output_type": "execute_result",
          "data": {
            "text/plain": [
              "array([[  0,   0,   0,   0,   0,   0,   0,   0,   0,   0,   0,   0,   0,\n",
              "          0,   0,   0,   0,   0,   0,   0,   0,   0,   0,   0,   0,   0,\n",
              "          0,   0,   0,   0,   0,   0,   0,   0,   0,   0,   0,   0,   0,\n",
              "          0,   0,   0,   0,   0,   0,   0,   0,   0,   0,   0,   0,   0,\n",
              "          0,   0,   0,   0,   0,   0,   0,   0,   0,   0,   0,   0,   0,\n",
              "          0,   0,   0,   0,   0,   0,   0,   0,   0,   0,   0,   0,   0,\n",
              "          0,   0,   0,   0,   0,   0,   0,   0,   0,   0,   0,   0,   0,\n",
              "          0,   0,   0,   0,   0,   0,   0,   0,   0,   0,   0,   0,   0,\n",
              "          0,   0,   0,   0,   0,   0,   0,   0,   0,   0,   0,   0,   0,\n",
              "          0,   0,   0,   0,   0,   0,   0,   0,   0,   0,   0,   0,   0,\n",
              "          0,   0,   0,   0,   0,   0,   0,   0,   0,   0,   0,   0,   0,\n",
              "          0,   0,   0,   0,   0,   0,   0,   0,   0,   3,  18,  18,  18,\n",
              "        126, 136, 175,  26, 166, 255, 247, 127,   0,   0,   0,   0,   0,\n",
              "          0,   0,   0,   0,   0,   0,   0,  30,  36,  94, 154, 170, 253,\n",
              "        253, 253, 253, 253, 225, 172, 253, 242, 195,  64,   0,   0,   0,\n",
              "          0,   0,   0,   0,   0,   0,   0,   0,  49, 238, 253, 253, 253,\n",
              "        253, 253, 253, 253, 253, 251,  93,  82,  82,  56,  39,   0,   0,\n",
              "          0,   0,   0,   0,   0,   0,   0,   0,   0,   0,  18, 219, 253,\n",
              "        253, 253, 253, 253, 198, 182, 247, 241,   0,   0,   0,   0,   0,\n",
              "          0,   0,   0,   0,   0,   0,   0,   0,   0,   0,   0,   0,   0,\n",
              "         80, 156, 107, 253, 253, 205,  11,   0,  43, 154,   0,   0,   0,\n",
              "          0,   0,   0,   0,   0,   0,   0,   0,   0,   0,   0,   0,   0,\n",
              "          0,   0,   0,  14,   1, 154, 253,  90,   0,   0,   0,   0,   0,\n",
              "          0,   0,   0,   0,   0,   0,   0,   0,   0,   0,   0,   0,   0,\n",
              "          0,   0,   0,   0,   0,   0,   0, 139, 253, 190,   2,   0,   0,\n",
              "          0,   0,   0,   0,   0,   0,   0,   0,   0,   0,   0,   0,   0,\n",
              "          0,   0,   0,   0,   0,   0,   0,   0,   0,  11, 190, 253,  70,\n",
              "          0,   0,   0,   0,   0,   0,   0,   0,   0,   0,   0,   0,   0,\n",
              "          0,   0,   0,   0,   0,   0,   0,   0,   0,   0,   0,   0,  35,\n",
              "        241, 225, 160, 108,   1,   0,   0,   0,   0,   0,   0,   0,   0,\n",
              "          0,   0,   0,   0,   0,   0,   0,   0,   0,   0,   0,   0,   0,\n",
              "          0,   0,  81, 240, 253, 253, 119,  25,   0,   0,   0,   0,   0,\n",
              "          0,   0,   0,   0,   0,   0,   0,   0,   0,   0,   0,   0,   0,\n",
              "          0,   0,   0,   0,   0,  45, 186, 253, 253, 150,  27,   0,   0,\n",
              "          0,   0,   0,   0,   0,   0,   0,   0,   0,   0,   0,   0,   0,\n",
              "          0,   0,   0,   0,   0,   0,   0,   0,  16,  93, 252, 253, 187,\n",
              "          0,   0,   0,   0,   0,   0,   0,   0,   0,   0,   0,   0,   0,\n",
              "          0,   0,   0,   0,   0,   0,   0,   0,   0,   0,   0,   0, 249,\n",
              "        253, 249,  64,   0,   0,   0,   0,   0,   0,   0,   0,   0,   0,\n",
              "          0,   0,   0,   0,   0,   0,   0,   0,   0,   0,   0,  46, 130,\n",
              "        183, 253, 253, 207,   2,   0,   0,   0,   0,   0,   0,   0,   0,\n",
              "          0,   0,   0,   0,   0,   0,   0,   0,   0,   0,   0,  39, 148,\n",
              "        229, 253, 253, 253, 250, 182,   0,   0,   0,   0,   0,   0,   0,\n",
              "          0,   0,   0,   0,   0,   0,   0,   0,   0,   0,   0,  24, 114,\n",
              "        221, 253, 253, 253, 253, 201,  78,   0,   0,   0,   0,   0,   0,\n",
              "          0,   0,   0,   0,   0,   0,   0,   0,   0,   0,   0,  23,  66,\n",
              "        213, 253, 253, 253, 253, 198,  81,   2,   0,   0,   0,   0,   0,\n",
              "          0,   0,   0,   0,   0,   0,   0,   0,   0,   0,   0,  18, 171,\n",
              "        219, 253, 253, 253, 253, 195,  80,   9,   0,   0,   0,   0,   0,\n",
              "          0,   0,   0,   0,   0,   0,   0,   0,   0,   0,   0,  55, 172,\n",
              "        226, 253, 253, 253, 253, 244, 133,  11,   0,   0,   0,   0,   0,\n",
              "          0,   0,   0,   0,   0,   0,   0,   0,   0,   0,   0,   0,   0,\n",
              "        136, 253, 253, 253, 212, 135, 132,  16,   0,   0,   0,   0,   0,\n",
              "          0,   0,   0,   0,   0,   0,   0,   0,   0,   0,   0,   0,   0,\n",
              "          0,   0,   0,   0,   0,   0,   0,   0,   0,   0,   0,   0,   0,\n",
              "          0,   0,   0,   0,   0,   0,   0,   0,   0,   0,   0,   0,   0,\n",
              "          0,   0,   0,   0,   0,   0,   0,   0,   0,   0,   0,   0,   0,\n",
              "          0,   0,   0,   0,   0,   0,   0,   0,   0,   0,   0,   0,   0,\n",
              "          0,   0,   0,   0,   0,   0,   0,   0,   0,   0,   0,   0,   0,\n",
              "          0,   0,   0,   0,   0,   0,   0,   0,   0,   0,   0,   0,   0,\n",
              "          0,   0,   0,   0]], dtype=uint8)"
            ]
          },
          "metadata": {},
          "execution_count": 8
        }
      ]
    },
    {
      "cell_type": "markdown",
      "metadata": {
        "id": "Czew2EJub6Ja"
      },
      "source": [
        "# MLP 모델\n",
        "\n",
        "- [MLP 동작 이해(playground)](https://playground.tensorflow.org/#activation=tanh&batchSize=10&dataset=circle&regDataset=reg-plane&learningRate=0.03&regularizationRate=0&noise=0&networkShape=4,2&seed=0.30687&showTestData=false&discretize=false&percTrainData=50&x=true&y=true&xTimesY=false&xSquared=false&ySquared=false&cosX=false&sinX=false&cosY=false&sinY=false&collectStats=false&problem=classification&initZero=false&hideText=false)\n",
        "- [MLP로 구현한 MNIST 인식 모델](https://www.kaggle.com/code/heeraldedhia/mnist-classifier-first-deep-learning-project/notebook)\n",
        "- 출력단은 10개의 점수를 얻은 후에 소프트맥스를 수행하여 확률을 예측했다\n",
        "  - 10개의 클래스 확률을 얻었다"
      ]
    },
    {
      "cell_type": "markdown",
      "metadata": {
        "id": "tB8wYyfEZzV_"
      },
      "source": [
        "## MLP 입력 전처리\n",
        "- MLP는 1차원 텐서 즉 벡터만 입력으로 받는다 (일렬 횡대 입력)\n",
        "- 목적 변수(여기서는 0~9 의 숫자)는 원 핫 인코딩을 해야 하며 케라스가 제공하는 to_categorical를 사용한다 (get_dummies와 같은 역할 수행)\n",
        "- 입력값은 0~1 사이로 min-max 스케일링은 한다"
      ]
    },
    {
      "cell_type": "code",
      "execution_count": 10,
      "metadata": {
        "id": "EafiutHbqni_"
      },
      "outputs": [],
      "source": [
        "X_train = train_images.reshape(60000, 28*28)\n",
        "X_train = X_train.astype('float32')/255\n",
        "\n",
        "X_test = test_images.reshape(10000, 28*28)\n",
        "X_test = X_test.astype('float32')/255\n",
        "\n",
        "y_train_cat = to_categorical(train_labels) # 원핫인코딩\n",
        "y_test_cat = to_categorical(test_labels)"
      ]
    },
    {
      "cell_type": "code",
      "execution_count": 13,
      "metadata": {
        "colab": {
          "base_uri": "https://localhost:8080/"
        },
        "id": "LNqZlZxqZzWA",
        "outputId": "fb99a841-b4c9-40c2-f149-e9a248fbbd23"
      },
      "outputs": [
        {
          "output_type": "stream",
          "name": "stdout",
          "text": [
            "(60000, 784)\n"
          ]
        },
        {
          "output_type": "execute_result",
          "data": {
            "text/plain": [
              "array([[0., 0., 0., 0., 0., 1., 0., 0., 0., 0.],\n",
              "       [1., 0., 0., 0., 0., 0., 0., 0., 0., 0.],\n",
              "       [0., 0., 0., 0., 1., 0., 0., 0., 0., 0.]], dtype=float32)"
            ]
          },
          "metadata": {},
          "execution_count": 13
        }
      ],
      "source": [
        "print(X_train.shape)\n",
        "y_train_cat[:3]"
      ]
    },
    {
      "cell_type": "markdown",
      "metadata": {
        "id": "Bcj5d2D8mKIU"
      },
      "source": [
        "## MLP 모델 구현"
      ]
    },
    {
      "cell_type": "code",
      "execution_count": 14,
      "metadata": {
        "colab": {
          "base_uri": "https://localhost:8080/"
        },
        "id": "4tlDJdu8b5XD",
        "outputId": "273457f0-c7ac-42f2-ae89-2e6ffac84c6b"
      },
      "outputs": [
        {
          "output_type": "stream",
          "name": "stdout",
          "text": [
            "Model: \"sequential\"\n",
            "_________________________________________________________________\n",
            " Layer (type)                Output Shape              Param #   \n",
            "=================================================================\n",
            " dense (Dense)               (None, 100)               78500     \n",
            "                                                                 \n",
            " dense_1 (Dense)             (None, 100)               10100     \n",
            "                                                                 \n",
            " dense_2 (Dense)             (None, 10)                1010      \n",
            "                                                                 \n",
            "=================================================================\n",
            "Total params: 89610 (350.04 KB)\n",
            "Trainable params: 89610 (350.04 KB)\n",
            "Non-trainable params: 0 (0.00 Byte)\n",
            "_________________________________________________________________\n"
          ]
        }
      ],
      "source": [
        "model_m = models.Sequential()\n",
        "model_m.add(layers.Dense(100, activation='relu', input_shape = (28*28,)))  #input이 28*28(748개)가 들어오는데 100개의 값으로 줄이는 Layer를 만들어주라\n",
        "model_m.add(layers.Dense(100, activation='relu'))                          #이 100개짜리를 다시 100개로 만드는 layer를 1개더 추가\n",
        "model_m.add(layers.Dense(10, activation='softmax'))                        #이 100개짜리는 10개로 줄여주라 using softmax(softmax activation function)\n",
        "model_m.summary()\n",
        "#현재 결과에 Pamater를 89610 개를 쓴 것. 이 값ㅇ느 작을 수록 좋음."
      ]
    },
    {
      "cell_type": "markdown",
      "metadata": {
        "id": "dT1vk3rLpAhn"
      },
      "source": [
        "## 조기 종료 조건\n",
        "- 이포크 종료 조건을 keras.callbacks.EarlyStopping로 설정할 수 있다\n",
        "- 아래는 총 이포크를 30회 진행하되 이포크가 3회 진행하는 동안 검증 데이터에 대해 정확도가 개선되지 않으면 종료하라는 뜻이다\n",
        " - 이 때 검증 데이터는 훈련 데이터중에 20%를 자체적으로 사용한다\n",
        " - 아래에서 검증뎅터에 대한 성능이 떨어지기 전에..종료해야함. (= 훈련 Data가 너무 많아도 안됨) =>Early Stopping"
      ]
    },
    {
      "cell_type": "markdown",
      "metadata": {
        "id": "8lG_3plOmKIU"
      },
      "source": [
        "<img src='https://github.com/StillWork/image/blob/main/%E1%84%89%E1%85%B3%E1%84%8F%E1%85%B3%E1%84%85%E1%85%B5%E1%86%AB%E1%84%89%E1%85%A3%E1%86%BA%202021-03-14%20%E1%84%8B%E1%85%A9%E1%84%92%E1%85%AE%204.24.12.png?raw=1' align='left' width=400>\n"
      ]
    },
    {
      "cell_type": "code",
      "execution_count": 21,
      "metadata": {
        "colab": {
          "base_uri": "https://localhost:8080/"
        },
        "id": "A8NcYf3-GoF5",
        "outputId": "28e74859-f3e4-4d45-fc22-1b208a7446d8"
      },
      "outputs": [
        {
          "output_type": "stream",
          "name": "stdout",
          "text": [
            "Epoch 1/30\n",
            "2400/2400 [==============================] - 12s 4ms/step - loss: 0.4141 - accuracy: 0.8842 - val_loss: 0.2515 - val_accuracy: 0.9302\n",
            "Epoch 2/30\n",
            "2400/2400 [==============================] - 8s 3ms/step - loss: 0.2465 - accuracy: 0.9284 - val_loss: 0.2175 - val_accuracy: 0.9402\n",
            "Epoch 3/30\n",
            "2400/2400 [==============================] - 9s 4ms/step - loss: 0.2096 - accuracy: 0.9382 - val_loss: 0.1965 - val_accuracy: 0.9438\n",
            "Epoch 4/30\n",
            "2400/2400 [==============================] - 9s 4ms/step - loss: 0.1862 - accuracy: 0.9450 - val_loss: 0.1817 - val_accuracy: 0.9486\n",
            "Epoch 5/30\n",
            "2400/2400 [==============================] - 8s 3ms/step - loss: 0.1667 - accuracy: 0.9503 - val_loss: 0.1710 - val_accuracy: 0.9517\n",
            "Epoch 6/30\n",
            "2400/2400 [==============================] - 10s 4ms/step - loss: 0.1511 - accuracy: 0.9545 - val_loss: 0.1609 - val_accuracy: 0.9544\n",
            "Epoch 7/30\n",
            "2400/2400 [==============================] - 9s 4ms/step - loss: 0.1382 - accuracy: 0.9577 - val_loss: 0.1562 - val_accuracy: 0.9564\n",
            "Epoch 8/30\n",
            "2400/2400 [==============================] - 9s 4ms/step - loss: 0.1284 - accuracy: 0.9614 - val_loss: 0.1514 - val_accuracy: 0.9580\n",
            "Epoch 9/30\n",
            "2400/2400 [==============================] - 8s 3ms/step - loss: 0.1212 - accuracy: 0.9633 - val_loss: 0.1448 - val_accuracy: 0.9586\n",
            "Epoch 10/30\n",
            "2400/2400 [==============================] - 9s 4ms/step - loss: 0.1137 - accuracy: 0.9655 - val_loss: 0.1481 - val_accuracy: 0.9579\n",
            "Epoch 11/30\n",
            "2400/2400 [==============================] - 9s 4ms/step - loss: 0.1082 - accuracy: 0.9675 - val_loss: 0.1477 - val_accuracy: 0.9597\n",
            "Epoch 12/30\n",
            "2400/2400 [==============================] - 8s 3ms/step - loss: 0.1030 - accuracy: 0.9687 - val_loss: 0.1459 - val_accuracy: 0.9597\n",
            "Epoch 13/30\n",
            "2400/2400 [==============================] - 9s 4ms/step - loss: 0.0979 - accuracy: 0.9706 - val_loss: 0.1460 - val_accuracy: 0.9604\n",
            "Epoch 14/30\n",
            "2400/2400 [==============================] - 8s 4ms/step - loss: 0.0953 - accuracy: 0.9712 - val_loss: 0.1544 - val_accuracy: 0.9580\n",
            "Epoch 15/30\n",
            "2400/2400 [==============================] - 8s 3ms/step - loss: 0.0910 - accuracy: 0.9722 - val_loss: 0.1501 - val_accuracy: 0.9581\n",
            "Epoch 16/30\n",
            "2400/2400 [==============================] - 9s 4ms/step - loss: 0.0884 - accuracy: 0.9724 - val_loss: 0.1464 - val_accuracy: 0.9607\n",
            "Epoch 17/30\n",
            "2400/2400 [==============================] - 8s 3ms/step - loss: 0.0851 - accuracy: 0.9736 - val_loss: 0.1481 - val_accuracy: 0.9588\n",
            "Epoch 18/30\n",
            "2400/2400 [==============================] - 8s 3ms/step - loss: 0.0810 - accuracy: 0.9751 - val_loss: 0.1526 - val_accuracy: 0.9587\n",
            "Epoch 19/30\n",
            "2400/2400 [==============================] - 9s 4ms/step - loss: 0.0801 - accuracy: 0.9751 - val_loss: 0.1548 - val_accuracy: 0.9582\n"
          ]
        }
      ],
      "source": [
        "callbacks_list = [keras.callbacks.EarlyStopping(monitor='val_accuracy', patience=3)]\n",
        " #최고의 Accracy를 구해도 최소 3번은 더 시도해봄. 만약 3번 더 해도 더 좋은 VAL_ACCURACY가 안 나오면 중단함.\n",
        "\n",
        "model_m.compile(loss='categorical_crossentropy',optimizer='adam', metrics=['accuracy'])  #분류모델\n",
        "#model_m.compile(loss='mse', optimizer='adam', metrics=['accuracy'])  #분류모델->회귀모델 로 바꿀려면 loss function 을 MIN Square Error 로 준다.\n",
        "# adam외에 다른 최적화 알고리즘으로 'rmsprop'도 널리 사용된다\n",
        "# 레이블은 원 핫 인코딩된 y_train_cat을 사용해야 한다\n",
        "# 10개의 값을 각각 주고 확률처럼 사용한다\n",
        "\n",
        "h = model_m.fit(X_train,\n",
        "                      y_train_cat,\n",
        "                      batch_size=20,          #한번에 몇 개씩 테스트할 것인가.\n",
        "                      epochs=30,              #30번을 돌려야하니까 이포크는 30으로 설정.\n",
        "                      callbacks=callbacks_list,\n",
        "                      validation_split=0.2,   #스스로 채점하는 데이터를 20%를 써라\n",
        "                      verbose=1)\n",
        "\n",
        "# 하단에 결과가 2400/2400 나오는 이유 : 6만개 자료 -> 0.2 제외한 0.8을 사용 -> 4만8천개 -> BATCH 사이즈가 20이니까. 2400 개 나옴"
      ]
    },
    {
      "cell_type": "markdown",
      "metadata": {
        "id": "DrkAKwojpYOv"
      },
      "source": [
        "## fit 함수\n",
        "- 매 이포크마다 실행 결과를 history 타입의 객체에 저장한다\n",
        "- 이 객체에 손실함수와 성능평가 기록이 남아 있다"
      ]
    },
    {
      "cell_type": "code",
      "execution_count": 19,
      "metadata": {
        "id": "RMXrAboxVHyh"
      },
      "outputs": [],
      "source": [
        "# 결과를 보는 함수 정의\n",
        "def show_4_graphs(history):\n",
        "    plt.figure(figsize=(6, 4))\n",
        "    plt.plot(history.history['accuracy'], 'r', label='Accuracy of training data')\n",
        "    plt.plot(history.history['val_accuracy'], 'b', label='Accuracy of validation data')\n",
        "    plt.plot(history.history['loss'], 'r--', label='Loss of training data')\n",
        "    plt.plot(history.history['val_loss'], 'b--', label='Loss of validation data')\n",
        "    plt.title('Model Accuracy and Loss')\n",
        "    plt.ylabel('Accuracy and Loss')\n",
        "    plt.xlabel('Training Epoch')\n",
        "    plt.ylim(0)\n",
        "    plt.legend()\n",
        "    plt.show()"
      ]
    },
    {
      "cell_type": "code",
      "execution_count": 20,
      "metadata": {
        "colab": {
          "base_uri": "https://localhost:8080/",
          "height": 409
        },
        "id": "vpdtTWdlVNY2",
        "outputId": "fd1a634f-fbff-429c-8653-00aacf1417f1"
      },
      "outputs": [
        {
          "output_type": "display_data",
          "data": {
            "text/plain": [
              "<Figure size 600x400 with 1 Axes>"
            ],
            "image/png": "[encoded data removed]"
          },
          "metadata": {
            "image/png": {
              "width": 536,
              "height": 392
            }
          }
        }
      ],
      "source": [
        "show_4_graphs(h)"
      ]
    },
    {
      "cell_type": "markdown",
      "metadata": {
        "id": "Okiuu_wBpxnm"
      },
      "source": [
        "## 성능 평가\n",
        "- 검증데이터에 대한 평가는 evaluate()로 수행한다\n",
        "- loss와 accuracy를 리턴한다"
      ]
    },
    {
      "cell_type": "code",
      "execution_count": null,
      "metadata": {
        "colab": {
          "base_uri": "https://localhost:8080/"
        },
        "id": "JWGwyDRBdNqL",
        "outputId": "44131ccd-c46e-4104-c510-61f8bd759ca5"
      },
      "outputs": [
        {
          "name": "stdout",
          "output_type": "stream",
          "text": [
            "313/313 [==============================] - 1s 2ms/step - loss: 0.1262 - accuracy: 0.9763\n",
            "loss, acc =  0.12620161473751068 0.9763000011444092\n"
          ]
        }
      ],
      "source": [
        "test_loss, test_acc = model_m.evaluate(X_test, y_test_cat)\n",
        "print('loss, acc = ',test_loss, test_acc)"
      ]
    },
    {
      "cell_type": "markdown",
      "metadata": {
        "id": "H6bgW5hsidhB"
      },
      "source": [
        "##  예측에 사용하기\n",
        "- predict()함수를 호출하면 클래스 확률을 보여준다\n",
        "- 10개의 클래스 확률중에 어떤 클래스의 확률이 가장 큰지는 agrmax()로 찾는다"
      ]
    },
    {
      "cell_type": "code",
      "execution_count": null,
      "metadata": {
        "colab": {
          "base_uri": "https://localhost:8080/"
        },
        "id": "aC65kd69hms8",
        "outputId": "b8eaa835-768f-4da3-c5bc-93068afc84c0"
      },
      "outputs": [
        {
          "name": "stdout",
          "output_type": "stream",
          "text": [
            "1/1 [==============================] - 0s 71ms/step\n"
          ]
        },
        {
          "data": {
            "text/plain": [
              "array([[9.6741753e-28, 7.5162668e-18, 1.1477957e-17, 1.9422335e-04,\n",
              "        1.2472462e-26, 9.9980575e-01, 3.3885531e-28, 1.8414593e-14,\n",
              "        7.6802944e-16, 2.1555342e-14],\n",
              "       [1.0000000e+00, 1.7288296e-20, 5.1600878e-14, 2.3989917e-17,\n",
              "        3.7603152e-19, 2.5055706e-18, 1.9952998e-18, 1.6575364e-16,\n",
              "        1.1601695e-17, 7.1211551e-15],\n",
              "       [1.7137611e-19, 5.9756904e-17, 2.3846015e-11, 7.4708491e-16,\n",
              "        1.0000000e+00, 9.7738097e-20, 5.0508559e-20, 2.3325888e-12,\n",
              "        2.9186587e-13, 2.3259372e-09]], dtype=float32)"
            ]
          },
          "execution_count": 18,
          "metadata": {},
          "output_type": "execute_result"
        }
      ],
      "source": [
        "model_m.predict(X_train[0:3]) #확률로 보여줌."
      ]
    },
    {
      "cell_type": "code",
      "execution_count": null,
      "metadata": {
        "colab": {
          "base_uri": "https://localhost:8080/"
        },
        "id": "58bzUyEUiBqU",
        "outputId": "c2fbd6ae-46d5-41ef-a811-e668ab007de1"
      },
      "outputs": [
        {
          "name": "stdout",
          "output_type": "stream",
          "text": [
            "1/1 [==============================] - 0s 19ms/step\n"
          ]
        },
        {
          "data": {
            "text/plain": [
              "array([5, 0, 4, 1, 9], dtype=int64)"
            ]
          },
          "execution_count": 19,
          "metadata": {},
          "output_type": "execute_result"
        }
      ],
      "source": [
        "np.argmax(model_m.predict(X_train[0:5]), axis=1)  #10개의 숫자 CLASS 중, 가장 큰 값(확률)이 몇 번 째에 들어있느냐 ..."
      ]
    },
    {
      "cell_type": "markdown",
      "metadata": {
        "id": "44tLYKCwtYc-"
      },
      "source": [
        "# CNN 모델\n",
        "- CNN은 입력으로 4차원 구조를 필요로 한다(#신경망들은 모두 다 최소 3차원 이상을 필요로 함)\n",
        " - (샘플수, 가로, 세로, 특성수)\n",
        "- 구조를 맞추기 위해서 reshape를 사용한다\n",
        "- [CNN 모델을 사용한 MNIST 인식](https://towardsdatascience.com/mnist-handwritten-digits-classification-using-a-convolutional-neural-network-cnn-af5fafbc35e9)"
      ]
    },
    {
      "cell_type": "code",
      "execution_count": 11,
      "metadata": {
        "id": "-uSV7hakZzWC"
      },
      "outputs": [],
      "source": [
        "X_train_cnn = train_images.reshape(-1,28,28,1)  #끝에 1을 넣어서 차원을 늘려좀.  나머지 앞의 세계는 사진에 대한 RGB 값.\n",
        "X_test_cnn = test_images.reshape(-1,28,28,1)    #끝에 1을 넣어서 차원을 늘려줌."
      ]
    },
    {
      "cell_type": "code",
      "source": [
        "X_test_cnn"
      ],
      "metadata": {
        "colab": {
          "base_uri": "https://localhost:8080/"
        },
        "id": "LjOrs5eVjqwT",
        "outputId": "64e67c05-5550-45bb-fdef-3f28bbaaac54"
      },
      "execution_count": 13,
      "outputs": [
        {
          "output_type": "execute_result",
          "data": {
            "text/plain": [
              "array([[[[0],\n",
              "         [0],\n",
              "         [0],\n",
              "         ...,\n",
              "         [0],\n",
              "         [0],\n",
              "         [0]],\n",
              "\n",
              "        [[0],\n",
              "         [0],\n",
              "         [0],\n",
              "         ...,\n",
              "         [0],\n",
              "         [0],\n",
              "         [0]],\n",
              "\n",
              "        [[0],\n",
              "         [0],\n",
              "         [0],\n",
              "         ...,\n",
              "         [0],\n",
              "         [0],\n",
              "         [0]],\n",
              "\n",
              "        ...,\n",
              "\n",
              "        [[0],\n",
              "         [0],\n",
              "         [0],\n",
              "         ...,\n",
              "         [0],\n",
              "         [0],\n",
              "         [0]],\n",
              "\n",
              "        [[0],\n",
              "         [0],\n",
              "         [0],\n",
              "         ...,\n",
              "         [0],\n",
              "         [0],\n",
              "         [0]],\n",
              "\n",
              "        [[0],\n",
              "         [0],\n",
              "         [0],\n",
              "         ...,\n",
              "         [0],\n",
              "         [0],\n",
              "         [0]]],\n",
              "\n",
              "\n",
              "       [[[0],\n",
              "         [0],\n",
              "         [0],\n",
              "         ...,\n",
              "         [0],\n",
              "         [0],\n",
              "         [0]],\n",
              "\n",
              "        [[0],\n",
              "         [0],\n",
              "         [0],\n",
              "         ...,\n",
              "         [0],\n",
              "         [0],\n",
              "         [0]],\n",
              "\n",
              "        [[0],\n",
              "         [0],\n",
              "         [0],\n",
              "         ...,\n",
              "         [0],\n",
              "         [0],\n",
              "         [0]],\n",
              "\n",
              "        ...,\n",
              "\n",
              "        [[0],\n",
              "         [0],\n",
              "         [0],\n",
              "         ...,\n",
              "         [0],\n",
              "         [0],\n",
              "         [0]],\n",
              "\n",
              "        [[0],\n",
              "         [0],\n",
              "         [0],\n",
              "         ...,\n",
              "         [0],\n",
              "         [0],\n",
              "         [0]],\n",
              "\n",
              "        [[0],\n",
              "         [0],\n",
              "         [0],\n",
              "         ...,\n",
              "         [0],\n",
              "         [0],\n",
              "         [0]]],\n",
              "\n",
              "\n",
              "       [[[0],\n",
              "         [0],\n",
              "         [0],\n",
              "         ...,\n",
              "         [0],\n",
              "         [0],\n",
              "         [0]],\n",
              "\n",
              "        [[0],\n",
              "         [0],\n",
              "         [0],\n",
              "         ...,\n",
              "         [0],\n",
              "         [0],\n",
              "         [0]],\n",
              "\n",
              "        [[0],\n",
              "         [0],\n",
              "         [0],\n",
              "         ...,\n",
              "         [0],\n",
              "         [0],\n",
              "         [0]],\n",
              "\n",
              "        ...,\n",
              "\n",
              "        [[0],\n",
              "         [0],\n",
              "         [0],\n",
              "         ...,\n",
              "         [0],\n",
              "         [0],\n",
              "         [0]],\n",
              "\n",
              "        [[0],\n",
              "         [0],\n",
              "         [0],\n",
              "         ...,\n",
              "         [0],\n",
              "         [0],\n",
              "         [0]],\n",
              "\n",
              "        [[0],\n",
              "         [0],\n",
              "         [0],\n",
              "         ...,\n",
              "         [0],\n",
              "         [0],\n",
              "         [0]]],\n",
              "\n",
              "\n",
              "       ...,\n",
              "\n",
              "\n",
              "       [[[0],\n",
              "         [0],\n",
              "         [0],\n",
              "         ...,\n",
              "         [0],\n",
              "         [0],\n",
              "         [0]],\n",
              "\n",
              "        [[0],\n",
              "         [0],\n",
              "         [0],\n",
              "         ...,\n",
              "         [0],\n",
              "         [0],\n",
              "         [0]],\n",
              "\n",
              "        [[0],\n",
              "         [0],\n",
              "         [0],\n",
              "         ...,\n",
              "         [0],\n",
              "         [0],\n",
              "         [0]],\n",
              "\n",
              "        ...,\n",
              "\n",
              "        [[0],\n",
              "         [0],\n",
              "         [0],\n",
              "         ...,\n",
              "         [0],\n",
              "         [0],\n",
              "         [0]],\n",
              "\n",
              "        [[0],\n",
              "         [0],\n",
              "         [0],\n",
              "         ...,\n",
              "         [0],\n",
              "         [0],\n",
              "         [0]],\n",
              "\n",
              "        [[0],\n",
              "         [0],\n",
              "         [0],\n",
              "         ...,\n",
              "         [0],\n",
              "         [0],\n",
              "         [0]]],\n",
              "\n",
              "\n",
              "       [[[0],\n",
              "         [0],\n",
              "         [0],\n",
              "         ...,\n",
              "         [0],\n",
              "         [0],\n",
              "         [0]],\n",
              "\n",
              "        [[0],\n",
              "         [0],\n",
              "         [0],\n",
              "         ...,\n",
              "         [0],\n",
              "         [0],\n",
              "         [0]],\n",
              "\n",
              "        [[0],\n",
              "         [0],\n",
              "         [0],\n",
              "         ...,\n",
              "         [0],\n",
              "         [0],\n",
              "         [0]],\n",
              "\n",
              "        ...,\n",
              "\n",
              "        [[0],\n",
              "         [0],\n",
              "         [0],\n",
              "         ...,\n",
              "         [0],\n",
              "         [0],\n",
              "         [0]],\n",
              "\n",
              "        [[0],\n",
              "         [0],\n",
              "         [0],\n",
              "         ...,\n",
              "         [0],\n",
              "         [0],\n",
              "         [0]],\n",
              "\n",
              "        [[0],\n",
              "         [0],\n",
              "         [0],\n",
              "         ...,\n",
              "         [0],\n",
              "         [0],\n",
              "         [0]]],\n",
              "\n",
              "\n",
              "       [[[0],\n",
              "         [0],\n",
              "         [0],\n",
              "         ...,\n",
              "         [0],\n",
              "         [0],\n",
              "         [0]],\n",
              "\n",
              "        [[0],\n",
              "         [0],\n",
              "         [0],\n",
              "         ...,\n",
              "         [0],\n",
              "         [0],\n",
              "         [0]],\n",
              "\n",
              "        [[0],\n",
              "         [0],\n",
              "         [0],\n",
              "         ...,\n",
              "         [0],\n",
              "         [0],\n",
              "         [0]],\n",
              "\n",
              "        ...,\n",
              "\n",
              "        [[0],\n",
              "         [0],\n",
              "         [0],\n",
              "         ...,\n",
              "         [0],\n",
              "         [0],\n",
              "         [0]],\n",
              "\n",
              "        [[0],\n",
              "         [0],\n",
              "         [0],\n",
              "         ...,\n",
              "         [0],\n",
              "         [0],\n",
              "         [0]],\n",
              "\n",
              "        [[0],\n",
              "         [0],\n",
              "         [0],\n",
              "         ...,\n",
              "         [0],\n",
              "         [0],\n",
              "         [0]]]], dtype=uint8)"
            ]
          },
          "metadata": {},
          "execution_count": 13
        }
      ]
    },
    {
      "cell_type": "code",
      "execution_count": 12,
      "metadata": {
        "colab": {
          "base_uri": "https://localhost:8080/"
        },
        "id": "ZF7JkSQvrYAj",
        "outputId": "e23ef6bc-2493-4a1f-f04b-264244ca2add"
      },
      "outputs": [
        {
          "output_type": "stream",
          "name": "stdout",
          "text": [
            "Model: \"sequential_1\"\n",
            "_________________________________________________________________\n",
            " Layer (type)                Output Shape              Param #   \n",
            "=================================================================\n",
            " conv2d (Conv2D)             (None, 28, 28, 32)        320       \n",
            "                                                                 \n",
            " max_pooling2d (MaxPooling2  (None, 14, 14, 32)        0         \n",
            " D)                                                              \n",
            "                                                                 \n",
            " conv2d_1 (Conv2D)           (None, 14, 14, 64)        18496     \n",
            "                                                                 \n",
            " max_pooling2d_1 (MaxPoolin  (None, 7, 7, 64)          0         \n",
            " g2D)                                                            \n",
            "                                                                 \n",
            " flatten (Flatten)           (None, 3136)              0         \n",
            "                                                                 \n",
            " dense (Dense)               (None, 128)               401536    \n",
            "                                                                 \n",
            " dense_1 (Dense)             (None, 10)                1290      \n",
            "                                                                 \n",
            "=================================================================\n",
            "Total params: 421642 (1.61 MB)\n",
            "Trainable params: 421642 (1.61 MB)\n",
            "Non-trainable params: 0 (0.00 Byte)\n",
            "_________________________________________________________________\n"
          ]
        }
      ],
      "source": [
        "from keras import layers\n",
        "from keras import models\n",
        "\n",
        "model_cnn = models.Sequential()\n",
        "model_cnn.add(layers.Conv2D(32, (3,3), padding=\"same\", activation='relu', input_shape = (28, 28,1)))  #2D 차원으로 컨버전을 하는데, #padding 옆으로 채우고?, #필터는 32개\n",
        "model_cnn.add(layers.MaxPooling2D((2,2))) #MAXpooling 을 2,2 매트릭스로 줄이고.\n",
        "\n",
        "model_cnn.add(layers.Conv2D(64, (3,3), padding=\"same\", activation='relu'))\n",
        "model_cnn.add(layers.MaxPooling2D((2,2)))\n",
        "\n",
        "model_cnn.add(layers.Flatten())  #MLP를 사용하기 위해 일렬횡대로 세움.\n",
        "model_cnn.add(layers.Dense(128, activation='relu'))  #Layer Hidden 1개 추가\n",
        "model_cnn.add(layers.Dense(10, activation='softmax'))\n",
        "\n",
        "model_cnn.summary()\n",
        "\n",
        "#결과에 대한 Parameter가 42만개.\n",
        "#Conv2D의 Parameter가 왜 320개인가.. 필터?셀? 1개는 3*3. 이게 32장 있음. 3*3*32 + 바이오스 32 = 320"
      ]
    },
    {
      "cell_type": "code",
      "execution_count": 14,
      "metadata": {
        "colab": {
          "base_uri": "https://localhost:8080/"
        },
        "id": "_ikkdb8qsx6d",
        "outputId": "f845c953-ba26-4035-ae1d-5bac1eccace7"
      },
      "outputs": [
        {
          "output_type": "stream",
          "name": "stdout",
          "text": [
            "Epoch 1/30\n",
            "2400/2400 [==============================] - 22s 4ms/step - loss: 0.2663 - accuracy: 0.9501 - val_loss: 0.0941 - val_accuracy: 0.9748\n",
            "Epoch 2/30\n",
            "2400/2400 [==============================] - 10s 4ms/step - loss: 0.0705 - accuracy: 0.9785 - val_loss: 0.0745 - val_accuracy: 0.9775\n",
            "Epoch 3/30\n",
            "2400/2400 [==============================] - 10s 4ms/step - loss: 0.0520 - accuracy: 0.9834 - val_loss: 0.0802 - val_accuracy: 0.9808\n",
            "Epoch 4/30\n",
            "2400/2400 [==============================] - 10s 4ms/step - loss: 0.0421 - accuracy: 0.9875 - val_loss: 0.0700 - val_accuracy: 0.9829\n",
            "Epoch 5/30\n",
            "2400/2400 [==============================] - 10s 4ms/step - loss: 0.0398 - accuracy: 0.9882 - val_loss: 0.0694 - val_accuracy: 0.9826\n",
            "Epoch 6/30\n",
            "2400/2400 [==============================] - 11s 4ms/step - loss: 0.0314 - accuracy: 0.9909 - val_loss: 0.0611 - val_accuracy: 0.9858\n",
            "Epoch 7/30\n",
            "2400/2400 [==============================] - 11s 4ms/step - loss: 0.0284 - accuracy: 0.9920 - val_loss: 0.0618 - val_accuracy: 0.9863\n",
            "Epoch 8/30\n",
            "2400/2400 [==============================] - 12s 5ms/step - loss: 0.0235 - accuracy: 0.9930 - val_loss: 0.0672 - val_accuracy: 0.9857\n",
            "Epoch 9/30\n",
            "2400/2400 [==============================] - 11s 5ms/step - loss: 0.0242 - accuracy: 0.9933 - val_loss: 0.0753 - val_accuracy: 0.9858\n",
            "Epoch 10/30\n",
            "2400/2400 [==============================] - 10s 4ms/step - loss: 0.0219 - accuracy: 0.9944 - val_loss: 0.0828 - val_accuracy: 0.9858\n"
          ]
        }
      ],
      "source": [
        "callbacks_list = [keras.callbacks.EarlyStopping(monitor='val_accuracy', patience=3)]\n",
        "\n",
        "model_cnn.compile(loss='categorical_crossentropy',  #Loss 손실함수 변경에 따라 회계모델, 분류모델 구분가능. 현재는 분류모델.\n",
        "                optimizer='adam', metrics=['accuracy'])\n",
        "# 다른 최적화 알고리즘 'rmsprop'\n",
        "# 레이블로 원 핫 인코딩을 사용해야 한다\n",
        "h = model_cnn.fit(X_train_cnn,\n",
        "                      y_train_cat,\n",
        "                      batch_size=20,\n",
        "                      epochs=30,\n",
        "                      callbacks=callbacks_list,\n",
        "                      validation_split=0.2,\n",
        "                      verbose=1)\n",
        "\n",
        "# loss : 훈련데이터에 대한 손실loss\n",
        "# val_loss :  검증데이터에 대한 손실loss\n",
        "# 훈련데이터는 양이 많으면 많을 수록 성능이 올라가고 손실이 줄어듬\n",
        "# 검증데이터는 양이 많으면 어느 순간(과대적합), 손실함수가 내려가다가 올라감. 그리고 성능이 올라가다가 내려감.\n",
        "# 성능지표 = 사고를 줄임, 손실함수 = 과속을 하면 벌금을 내라함."
      ]
    },
    {
      "cell_type": "code",
      "execution_count": 18,
      "metadata": {
        "colab": {
          "base_uri": "https://localhost:8080/"
        },
        "id": "H4MhJEoUvCm0",
        "outputId": "c3707155-ec74-4632-ade9-41bd35dd7b83"
      },
      "outputs": [
        {
          "output_type": "stream",
          "name": "stdout",
          "text": [
            "313/313 [==============================] - 1s 4ms/step - loss: 0.0797 - accuracy: 0.9854\n",
            "test_acc =  0.9854000210762024\n"
          ]
        }
      ],
      "source": [
        "test_loss, test_acc = model_cnn.evaluate(X_test_cnn, y_test_cat)\n",
        "print('test_acc = ',test_acc)"
      ]
    },
    {
      "cell_type": "code",
      "execution_count": 20,
      "metadata": {
        "colab": {
          "base_uri": "https://localhost:8080/",
          "height": 409
        },
        "id": "WQutnaIBjT68",
        "outputId": "9cfeef15-09b5-44ca-f7d1-ef907ca196b5"
      },
      "outputs": [
        {
          "output_type": "display_data",
          "data": {
            "text/plain": [
              "<Figure size 600x400 with 1 Axes>"
            ],
            "image/png": "[encoded data removed]"
          },
          "metadata": {
            "image/png": {
              "width": 536,
              "height": 392
            }
          }
        }
      ],
      "source": [
        "show_4_graphs(h)"
      ]
    },
    {
      "cell_type": "markdown",
      "metadata": {
        "id": "snRNbW4dv7cF"
      },
      "source": [
        "# 신경망을 이용한  회귀 예측\n",
        "- 신경망의 출력단을 다음과 같이 작성하면 회귀예측 모델이 된다 (softmax를 호출하면 분류 모델이다)\n",
        "  - model.add(layers.Dense(1))\n",
        "- 목적 변수 2개를 예측하는 경우\n",
        "  - model.add(layers.Dense(2))"
      ]
    },
    {
      "cell_type": "markdown",
      "metadata": {
        "id": "vNuQ10vEuJAT"
      },
      "source": [
        "# (실습) 모델 최소화\n",
        "\n",
        "- 정확도가 96% 이상이 되는 모델을 만들되 가능하면 간단한 모델, 즉, 파라미터수가 가능한 적은 모델을 만드시오"
      ]
    },
    {
      "cell_type": "code",
      "execution_count": 12,
      "metadata": {
        "id": "5ln4IMhV0_Ad",
        "colab": {
          "base_uri": "https://localhost:8080/"
        },
        "outputId": "c42c04a7-7478-4611-8941-5bd063b05e99"
      },
      "outputs": [
        {
          "output_type": "stream",
          "name": "stdout",
          "text": [
            "Model: \"sequential\"\n",
            "_________________________________________________________________\n",
            " Layer (type)                Output Shape              Param #   \n",
            "=================================================================\n",
            " dense (Dense)               (None, 10)                7850      \n",
            "                                                                 \n",
            " dense_1 (Dense)             (None, 10)                110       \n",
            "                                                                 \n",
            "=================================================================\n",
            "Total params: 7960 (31.09 KB)\n",
            "Trainable params: 7960 (31.09 KB)\n",
            "Non-trainable params: 0 (0.00 Byte)\n",
            "_________________________________________________________________\n",
            "Model: \"sequential_1\"\n",
            "_________________________________________________________________\n",
            " Layer (type)                Output Shape              Param #   \n",
            "=================================================================\n",
            " dense_2 (Dense)             (None, 20)                15700     \n",
            "                                                                 \n",
            " dense_3 (Dense)             (None, 10)                210       \n",
            "                                                                 \n",
            "=================================================================\n",
            "Total params: 15910 (62.15 KB)\n",
            "Trainable params: 15910 (62.15 KB)\n",
            "Non-trainable params: 0 (0.00 Byte)\n",
            "_________________________________________________________________\n",
            "Model: \"sequential_2\"\n",
            "_________________________________________________________________\n",
            " Layer (type)                Output Shape              Param #   \n",
            "=================================================================\n",
            " dense_4 (Dense)             (None, 30)                23550     \n",
            "                                                                 \n",
            " dense_5 (Dense)             (None, 10)                310       \n",
            "                                                                 \n",
            "=================================================================\n",
            "Total params: 23860 (93.20 KB)\n",
            "Trainable params: 23860 (93.20 KB)\n",
            "Non-trainable params: 0 (0.00 Byte)\n",
            "_________________________________________________________________\n",
            "Model: \"sequential_3\"\n",
            "_________________________________________________________________\n",
            " Layer (type)                Output Shape              Param #   \n",
            "=================================================================\n",
            " dense_6 (Dense)             (None, 40)                31400     \n",
            "                                                                 \n",
            " dense_7 (Dense)             (None, 10)                410       \n",
            "                                                                 \n",
            "=================================================================\n",
            "Total params: 31810 (124.26 KB)\n",
            "Trainable params: 31810 (124.26 KB)\n",
            "Non-trainable params: 0 (0.00 Byte)\n",
            "_________________________________________________________________\n",
            "Model: \"sequential_4\"\n",
            "_________________________________________________________________\n",
            " Layer (type)                Output Shape              Param #   \n",
            "=================================================================\n",
            " dense_8 (Dense)             (None, 50)                39250     \n",
            "                                                                 \n",
            " dense_9 (Dense)             (None, 10)                510       \n",
            "                                                                 \n",
            "=================================================================\n",
            "Total params: 39760 (155.31 KB)\n",
            "Trainable params: 39760 (155.31 KB)\n",
            "Non-trainable params: 0 (0.00 Byte)\n",
            "_________________________________________________________________\n",
            "Model: \"sequential_5\"\n",
            "_________________________________________________________________\n",
            " Layer (type)                Output Shape              Param #   \n",
            "=================================================================\n",
            " dense_10 (Dense)            (None, 60)                47100     \n",
            "                                                                 \n",
            " dense_11 (Dense)            (None, 10)                610       \n",
            "                                                                 \n",
            "=================================================================\n",
            "Total params: 47710 (186.37 KB)\n",
            "Trainable params: 47710 (186.37 KB)\n",
            "Non-trainable params: 0 (0.00 Byte)\n",
            "_________________________________________________________________\n",
            "Model: \"sequential_6\"\n",
            "_________________________________________________________________\n",
            " Layer (type)                Output Shape              Param #   \n",
            "=================================================================\n",
            " dense_12 (Dense)            (None, 70)                54950     \n",
            "                                                                 \n",
            " dense_13 (Dense)            (None, 10)                710       \n",
            "                                                                 \n",
            "=================================================================\n",
            "Total params: 55660 (217.42 KB)\n",
            "Trainable params: 55660 (217.42 KB)\n",
            "Non-trainable params: 0 (0.00 Byte)\n",
            "_________________________________________________________________\n",
            "Model: \"sequential_7\"\n",
            "_________________________________________________________________\n",
            " Layer (type)                Output Shape              Param #   \n",
            "=================================================================\n",
            " dense_14 (Dense)            (None, 80)                62800     \n",
            "                                                                 \n",
            " dense_15 (Dense)            (None, 10)                810       \n",
            "                                                                 \n",
            "=================================================================\n",
            "Total params: 63610 (248.48 KB)\n",
            "Trainable params: 63610 (248.48 KB)\n",
            "Non-trainable params: 0 (0.00 Byte)\n",
            "_________________________________________________________________\n"
          ]
        }
      ],
      "source": [
        "#MLP\n",
        " for i in range(10,90,10) :\n",
        "    model_m = models.Sequential()\n",
        "    model_m.add(layers.Dense(i, activation='relu', input_shape = (28*28,)))  #input이 28*28(748개)가 들어오는데 100개의 값으로 줄이는 Layer를 만들어주라\n",
        "    #model_m.add(layers.Dense(i, activation='relu'))                          #이 100개짜리를 다시 100개로 만드는 layer를 1개더 추가\n",
        "    model_m.add(layers.Dense(10, activation='softmax'))                        #이 100개짜리는 10개로 줄여주라 using softmax(softmax activation function)\n",
        "    model_m.summary()\n",
        "\n"
      ]
    },
    {
      "cell_type": "code",
      "source": [
        "  model_m = models.Sequential()\n",
        "  model_m.add(layers.Dense(20, activation='relu', input_shape = (28*28,)))  #input이 28*28(748개)가 들어오는데 100개의 값으로 줄이는 Layer를 만들어주라\n",
        "  #model_m.add(layers.Dense(i, activation='relu'))                          #이 100개짜리를 다시 100개로 만드는 layer를 1개더 추가\n",
        "  model_m.add(layers.Dense(10, activation='softmax'))                        #이 100개짜리는 10개로 줄여주라 using softmax(softmax activation function)\n",
        "  model_m.summary()\n",
        "\n",
        "\n",
        "  #Layer 를 늘리면 복잡한 것을 잘 찾을 수 잇음\n",
        "  #Cell 수를 늘리는 건 디테일함을 더 보기위한 것."
      ],
      "metadata": {
        "colab": {
          "base_uri": "https://localhost:8080/"
        },
        "id": "kGGoayY7Pun9",
        "outputId": "66a62169-bf54-4fb2-8900-20839a63830e"
      },
      "execution_count": 22,
      "outputs": [
        {
          "output_type": "stream",
          "name": "stdout",
          "text": [
            "Model: \"sequential_10\"\n",
            "_________________________________________________________________\n",
            " Layer (type)                Output Shape              Param #   \n",
            "=================================================================\n",
            " dense_20 (Dense)            (None, 20)                15700     \n",
            "                                                                 \n",
            " dense_21 (Dense)            (None, 10)                210       \n",
            "                                                                 \n",
            "=================================================================\n",
            "Total params: 15910 (62.15 KB)\n",
            "Trainable params: 15910 (62.15 KB)\n",
            "Non-trainable params: 0 (0.00 Byte)\n",
            "_________________________________________________________________\n"
          ]
        }
      ]
    },
    {
      "cell_type": "code",
      "source": [
        "  callbacks_list = [keras.callbacks.EarlyStopping(monitor='val_accuracy', patience=3)]\n",
        "    #최고의 Accracy를 구해도 최소 3번은 더 시도해봄. 만약 3번 더 해도 더 좋은 VAL_ACCURACY가 안 나오면 중단함.\n",
        "\n",
        "  model_m.compile(loss='categorical_crossentropy',optimizer='adam', metrics=['accuracy'])  #분류모델\n",
        "   # model_m.compile(loss='mse', optimizer='adam', metrics=['accuracy'])  #분류모델->회귀모델 로 바꿀려면 loss function 을 MIN Square Error 로 준다.\n",
        "   # adam외에 다른 최적화 알고리즘으로 'rmsprop'도 널리 사용된다\n",
        "   # 레이블은 원 핫 인코딩된 y_train_cat을 사용해야 한다\n",
        "   # 10개의 값을 각각 주고 확률처럼 사용한다\n",
        "\n",
        "  h = model_m.fit(X_train,\n",
        "                  y_train_cat,\n",
        "                  batch_size=20,          #한번에 몇 개씩 테스트할 것인가.\n",
        "                  epochs=30,              #30번을 돌려야하니까 이포크는 30으로 설정.\n",
        "                  callbacks=callbacks_list,\n",
        "                  validation_split=0.2,   #스스로 채점하는 데이터를 20%를 써라\n",
        "                  verbose=1)\n"
      ],
      "metadata": {
        "colab": {
          "base_uri": "https://localhost:8080/"
        },
        "id": "Se0WVj74RHd6",
        "outputId": "0e0f55e4-b64e-4da0-deef-de6dbed6246d"
      },
      "execution_count": 23,
      "outputs": [
        {
          "output_type": "stream",
          "name": "stdout",
          "text": [
            "Epoch 1/30\n",
            "2400/2400 [==============================] - 9s 3ms/step - loss: 0.3904 - accuracy: 0.8894 - val_loss: 0.2285 - val_accuracy: 0.9348\n",
            "Epoch 2/30\n",
            "2400/2400 [==============================] - 9s 4ms/step - loss: 0.2223 - accuracy: 0.9354 - val_loss: 0.1945 - val_accuracy: 0.9436\n",
            "Epoch 3/30\n",
            "2400/2400 [==============================] - 8s 4ms/step - loss: 0.1881 - accuracy: 0.9442 - val_loss: 0.1888 - val_accuracy: 0.9459\n",
            "Epoch 4/30\n",
            "2400/2400 [==============================] - 8s 3ms/step - loss: 0.1681 - accuracy: 0.9506 - val_loss: 0.1690 - val_accuracy: 0.9506\n",
            "Epoch 5/30\n",
            "2400/2400 [==============================] - 9s 4ms/step - loss: 0.1541 - accuracy: 0.9546 - val_loss: 0.1722 - val_accuracy: 0.9506\n",
            "Epoch 6/30\n",
            "2400/2400 [==============================] - 10s 4ms/step - loss: 0.1435 - accuracy: 0.9576 - val_loss: 0.1689 - val_accuracy: 0.9510\n",
            "Epoch 7/30\n",
            "2400/2400 [==============================] - 8s 4ms/step - loss: 0.1351 - accuracy: 0.9594 - val_loss: 0.1736 - val_accuracy: 0.9504\n",
            "Epoch 8/30\n",
            "2400/2400 [==============================] - 9s 4ms/step - loss: 0.1274 - accuracy: 0.9614 - val_loss: 0.1653 - val_accuracy: 0.9502\n",
            "Epoch 9/30\n",
            "2400/2400 [==============================] - 9s 4ms/step - loss: 0.1217 - accuracy: 0.9635 - val_loss: 0.1641 - val_accuracy: 0.9518\n",
            "Epoch 10/30\n",
            "2400/2400 [==============================] - 9s 4ms/step - loss: 0.1155 - accuracy: 0.9653 - val_loss: 0.1642 - val_accuracy: 0.9523\n",
            "Epoch 11/30\n",
            "2400/2400 [==============================] - 8s 3ms/step - loss: 0.1104 - accuracy: 0.9665 - val_loss: 0.1670 - val_accuracy: 0.9511\n",
            "Epoch 12/30\n",
            "2400/2400 [==============================] - 10s 4ms/step - loss: 0.1062 - accuracy: 0.9674 - val_loss: 0.1649 - val_accuracy: 0.9524\n",
            "Epoch 13/30\n",
            "2400/2400 [==============================] - 9s 4ms/step - loss: 0.1013 - accuracy: 0.9690 - val_loss: 0.1615 - val_accuracy: 0.9540\n",
            "Epoch 14/30\n",
            "2400/2400 [==============================] - 8s 3ms/step - loss: 0.0977 - accuracy: 0.9693 - val_loss: 0.1692 - val_accuracy: 0.9517\n",
            "Epoch 15/30\n",
            "2400/2400 [==============================] - 9s 4ms/step - loss: 0.0935 - accuracy: 0.9710 - val_loss: 0.1672 - val_accuracy: 0.9524\n",
            "Epoch 16/30\n",
            "2400/2400 [==============================] - 9s 4ms/step - loss: 0.0917 - accuracy: 0.9711 - val_loss: 0.1677 - val_accuracy: 0.9528\n"
          ]
        }
      ]
    },
    {
      "cell_type": "code",
      "source": [
        "#CNN 모델로 96% Accuracy 로 Parameter를 40만개에서 -> 몇 천개로 줄일 수 잇는 확인할 것.\n",
        "#Dense를 줄이던지, Cell수를 줄이던지..\n",
        "\n",
        "\n",
        "X_train_cnn = train_images.reshape(-1,28,28,1)  #끝에 1을 넣어서 차원을 늘려좀.  나머지 앞의 세계는 사진에 대한 RGB 값.\n",
        "X_test_cnn = test_images.reshape(-1,28,28,1)    #끝에 1을 넣어서 차원을 늘려줌.\n",
        "\n",
        "from keras import layers\n",
        "from keras import models\n",
        "\n",
        "model_cnn = models.Sequential()\n",
        "model_cnn.add(layers.Conv2D(6, (3,3), padding=\"same\", activation='relu', input_shape = (28, 28,1)))  #2D 차원으로 컨버전을 하는데, #padding 옆으로 채우고?, #필터는 32개\n",
        "model_cnn.add(layers.MaxPooling2D((2,2))) #MAXpooling\n",
        "\n",
        "model_cnn.add(layers.Conv2D(6, (3,3), padding=\"same\", activation='relu'))\n",
        "model_cnn.add(layers.MaxPooling2D((2,2)))\n",
        "\n",
        "model_cnn.add(layers.Conv2D(6, (3,3), padding=\"same\", activation='relu'))\n",
        "model_cnn.add(layers.MaxPooling2D((2,2)))\n",
        "\n",
        "model_cnn.add(layers.Flatten())  #MLP를 사용하기 위해 일렬횡대로 세움.\n",
        "#model_cnn.add(layers.Dense(40, activation='relu'))  #Layer Hidden 1개 추가\n",
        "model_cnn.add(layers.Dense(10, activation='softmax'))\n",
        "\n",
        "model_cnn.summary()\n",
        "\n",
        "#결과에 대한 Parameter를 3000개 미만으로 떨어뜨려보십시다.\n",
        "#Pamater가 많으면 계산이 복잡하다는 거임. Pamater가 많으면 복잡하다는 말. Parameter가 많다고 좋은 건 아님...\n",
        "#Conv2D의 Parameter가 왜 320개인가.. 필터?셀? 1개는 3*3. 이게 32장 있음. 3*3*32 + 바이오스 32 = 320\n",
        "\n",
        "\n"
      ],
      "metadata": {
        "colab": {
          "base_uri": "https://localhost:8080/"
        },
        "id": "_fLWp7Pkm2eX",
        "outputId": "37f27545-3e37-4397-88f3-67d44b3bfa9b"
      },
      "execution_count": 44,
      "outputs": [
        {
          "output_type": "stream",
          "name": "stdout",
          "text": [
            "Model: \"sequential_19\"\n",
            "_________________________________________________________________\n",
            " Layer (type)                Output Shape              Param #   \n",
            "=================================================================\n",
            " conv2d_36 (Conv2D)          (None, 28, 28, 6)         60        \n",
            "                                                                 \n",
            " max_pooling2d_34 (MaxPooli  (None, 14, 14, 6)         0         \n",
            " ng2D)                                                           \n",
            "                                                                 \n",
            " conv2d_37 (Conv2D)          (None, 14, 14, 6)         330       \n",
            "                                                                 \n",
            " max_pooling2d_35 (MaxPooli  (None, 7, 7, 6)           0         \n",
            " ng2D)                                                           \n",
            "                                                                 \n",
            " conv2d_38 (Conv2D)          (None, 7, 7, 6)           330       \n",
            "                                                                 \n",
            " max_pooling2d_36 (MaxPooli  (None, 3, 3, 6)           0         \n",
            " ng2D)                                                           \n",
            "                                                                 \n",
            " flatten_18 (Flatten)        (None, 54)                0         \n",
            "                                                                 \n",
            " dense_32 (Dense)            (None, 10)                550       \n",
            "                                                                 \n",
            "=================================================================\n",
            "Total params: 1270 (4.96 KB)\n",
            "Trainable params: 1270 (4.96 KB)\n",
            "Non-trainable params: 0 (0.00 Byte)\n",
            "_________________________________________________________________\n"
          ]
        }
      ]
    },
    {
      "cell_type": "code",
      "source": [
        "callbacks_list = [keras.callbacks.EarlyStopping(monitor='val_accuracy', patience=4)]\n",
        "\n",
        "model_cnn.compile(loss='categorical_crossentropy',  #Loss 손실함수 변경에 따라 회계모델, 분류모델 구분가능. 현재는 분류모델.\n",
        "                optimizer='adam', metrics=['accuracy'])\n",
        "# 다른 최적화 알고리즘 'rmsprop'\n",
        "# 레이블로 원 핫 인코딩을 사용해야 한다\n",
        "h = model_cnn.fit(X_train_cnn,\n",
        "                      y_train_cat,\n",
        "                      batch_size=20,\n",
        "                      epochs=30,\n",
        "                      callbacks=callbacks_list,\n",
        "                      validation_split=0.2,\n",
        "                      verbose=1)\n",
        "\n",
        "# loss : 훈련데이터에 대한 손실loss\n",
        "# val_loss :  검증데이터에 대한 손실loss\n",
        "# 훈련데이터는 양이 많으면 많을 수록 성능이 올라가고 손실이 줄어듬\n",
        "# 검증데이터는 양이 많으면 어느 순간(과대적합), 손실함수가 내려가다가 올라감. 그리고 성능이 올라가다가 내려감.\n",
        "# 성능지표 = 사고를 줄임, 손실함수 = 과속을 하면 벌금을 내라함.\n"
      ],
      "metadata": {
        "colab": {
          "base_uri": "https://localhost:8080/"
        },
        "id": "8F7TaiqTnvjy",
        "outputId": "26e76ae2-eb50-4fa6-b29b-fc10937dafc4"
      },
      "execution_count": 45,
      "outputs": [
        {
          "output_type": "stream",
          "name": "stdout",
          "text": [
            "Epoch 1/30\n",
            "2400/2400 [==============================] - 14s 5ms/step - loss: 1.0022 - accuracy: 0.7146 - val_loss: 0.2269 - val_accuracy: 0.9291\n",
            "Epoch 2/30\n",
            "2400/2400 [==============================] - 12s 5ms/step - loss: 0.2057 - accuracy: 0.9355 - val_loss: 0.1480 - val_accuracy: 0.9540\n",
            "Epoch 3/30\n",
            "2400/2400 [==============================] - 12s 5ms/step - loss: 0.1411 - accuracy: 0.9567 - val_loss: 0.1176 - val_accuracy: 0.9633\n",
            "Epoch 4/30\n",
            "2400/2400 [==============================] - 12s 5ms/step - loss: 0.1151 - accuracy: 0.9639 - val_loss: 0.1097 - val_accuracy: 0.9650\n",
            "Epoch 5/30\n",
            "2400/2400 [==============================] - 12s 5ms/step - loss: 0.1006 - accuracy: 0.9686 - val_loss: 0.0946 - val_accuracy: 0.9717\n",
            "Epoch 6/30\n",
            "2400/2400 [==============================] - 12s 5ms/step - loss: 0.0933 - accuracy: 0.9698 - val_loss: 0.0947 - val_accuracy: 0.9707\n",
            "Epoch 7/30\n",
            "2400/2400 [==============================] - 12s 5ms/step - loss: 0.0871 - accuracy: 0.9722 - val_loss: 0.0832 - val_accuracy: 0.9752\n",
            "Epoch 8/30\n",
            "2400/2400 [==============================] - 12s 5ms/step - loss: 0.0834 - accuracy: 0.9739 - val_loss: 0.0939 - val_accuracy: 0.9713\n",
            "Epoch 9/30\n",
            "2400/2400 [==============================] - 12s 5ms/step - loss: 0.0822 - accuracy: 0.9740 - val_loss: 0.0961 - val_accuracy: 0.9722\n",
            "Epoch 10/30\n",
            "2400/2400 [==============================] - 12s 5ms/step - loss: 0.0780 - accuracy: 0.9745 - val_loss: 0.0909 - val_accuracy: 0.9712\n",
            "Epoch 11/30\n",
            "2400/2400 [==============================] - 12s 5ms/step - loss: 0.0759 - accuracy: 0.9758 - val_loss: 0.0832 - val_accuracy: 0.9767\n",
            "Epoch 12/30\n",
            "2400/2400 [==============================] - 12s 5ms/step - loss: 0.0756 - accuracy: 0.9766 - val_loss: 0.0949 - val_accuracy: 0.9713\n",
            "Epoch 13/30\n",
            "2400/2400 [==============================] - 13s 5ms/step - loss: 0.0729 - accuracy: 0.9772 - val_loss: 0.0762 - val_accuracy: 0.9770\n",
            "Epoch 14/30\n",
            "2400/2400 [==============================] - 12s 5ms/step - loss: 0.0728 - accuracy: 0.9767 - val_loss: 0.1020 - val_accuracy: 0.9697\n",
            "Epoch 15/30\n",
            "2400/2400 [==============================] - 13s 5ms/step - loss: 0.0706 - accuracy: 0.9772 - val_loss: 0.1002 - val_accuracy: 0.9701\n",
            "Epoch 16/30\n",
            "2400/2400 [==============================] - 12s 5ms/step - loss: 0.0698 - accuracy: 0.9771 - val_loss: 0.0783 - val_accuracy: 0.9758\n",
            "Epoch 17/30\n",
            "2400/2400 [==============================] - 13s 5ms/step - loss: 0.0672 - accuracy: 0.9782 - val_loss: 0.0759 - val_accuracy: 0.9780\n",
            "Epoch 18/30\n",
            "2400/2400 [==============================] - 13s 5ms/step - loss: 0.0670 - accuracy: 0.9783 - val_loss: 0.0722 - val_accuracy: 0.9777\n",
            "Epoch 19/30\n",
            "2400/2400 [==============================] - 12s 5ms/step - loss: 0.0668 - accuracy: 0.9787 - val_loss: 0.0843 - val_accuracy: 0.9756\n",
            "Epoch 20/30\n",
            "2400/2400 [==============================] - 12s 5ms/step - loss: 0.0662 - accuracy: 0.9789 - val_loss: 0.0776 - val_accuracy: 0.9787\n",
            "Epoch 21/30\n",
            "2400/2400 [==============================] - 12s 5ms/step - loss: 0.0654 - accuracy: 0.9792 - val_loss: 0.0745 - val_accuracy: 0.9778\n",
            "Epoch 22/30\n",
            "2400/2400 [==============================] - 11s 5ms/step - loss: 0.0653 - accuracy: 0.9790 - val_loss: 0.0821 - val_accuracy: 0.9760\n",
            "Epoch 23/30\n",
            "2400/2400 [==============================] - 11s 5ms/step - loss: 0.0650 - accuracy: 0.9801 - val_loss: 0.0804 - val_accuracy: 0.9766\n",
            "Epoch 24/30\n",
            "2400/2400 [==============================] - 12s 5ms/step - loss: 0.0648 - accuracy: 0.9801 - val_loss: 0.0804 - val_accuracy: 0.9762\n"
          ]
        }
      ]
    }
  ],
  "metadata": {
    "accelerator": "GPU",
    "colab": {
      "provenance": [],
      "toc_visible": true
    },
    "kernelspec": {
      "display_name": "Python 3 (ipykernel)",
      "language": "python",
      "name": "python3"
    },
    "language_info": {
      "codemirror_mode": {
        "name": "ipython",
        "version": 3
      },
      "file_extension": ".py",
      "mimetype": "text/x-python",
      "name": "python",
      "nbconvert_exporter": "python",
      "pygments_lexer": "ipython3",
      "version": "3.11.4"
    },
    "toc": {
      "base_numbering": 1,
      "nav_menu": {},
      "number_sections": false,
      "sideBar": true,
      "skip_h1_title": false,
      "title_cell": "Table of Contents",
      "title_sidebar": "Contents",
      "toc_cell": false,
      "toc_position": {},
      "toc_section_display": true,
      "toc_window_display": true
    }
  },
  "nbformat": 4,
  "nbformat_minor": 0
}