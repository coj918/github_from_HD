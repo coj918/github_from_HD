{
  "cells": [
    {
      "cell_type": "code",
      "execution_count": null,
      "id": "1b195187",
      "metadata": {
        "id": "1b195187"
      },
      "outputs": [],
      "source": [
        "import numpy as np\n",
        "import pandas as pd\n",
        "import matplotlib.pyplot as plt\n",
        "import matplotlib\n",
        "import seaborn as sns\n",
        "from warnings import filterwarnings\n",
        "filterwarnings('ignore')\n",
        "\n",
        "from sklearn.linear_model import LinearRegression\n",
        "from sklearn.svm import SVC, SVR\n",
        "from sklearn.ensemble import RandomForestRegressor\n",
        "from lightgbm import LGBMRegressor\n",
        "from tensorflow.keras.layers import LSTM, Dense\n",
        "\n",
        "from sklearn.preprocessing import StandardScaler, MinMaxScaler, QuantileTransformer, PowerTransformer, OneHotEncoder\n",
        "from sklearn.model_selection import train_test_split, KFold, cross_val_score\n",
        "from sklearn.metrics import mean_squared_error, mean_absolute_error, mean_absolute_percentage_error,r2_score\n",
        "\n",
        "## R-Squared 계산 함수 정의\n",
        "def show_reg_result(y_test,y_pred):\n",
        "    print(\"Max Error: \",\n",
        "      round(np.abs(y_test - y_pred).max(),3))\n",
        "    print(\"Mean Absolute Error: \",\n",
        "      round(np.abs(y_test-y_pred).mean(),3))\n",
        "    print(\"Root Mean Squared Error: \",\n",
        "      mean_squared_error(y_test,y_pred, squared=False).round(3))\n",
        "    print(\"R-Squared: \",\n",
        "      r2_score(y_test, y_pred).round(3))\n",
        "\n",
        "## 교차 검증을 수행하는 함수 정의\n",
        "def cross_validation(model, X, y, n=5):\n",
        "    cv = KFold(n, shuffle=False)\n",
        "    return cross_val_score(model, X, y, cv=cv).mean().round(4)\n",
        "\n",
        "# 입력 변수 가중치\n",
        "def plot_feature_weight(feature, weight, N=20):\n",
        "    plt.figure(figsize=(8,int(N/2)))\n",
        "    W = pd.DataFrame({'feature':feature[:N],'weight':weight[:N]})\n",
        "    W.sort_values('weight', inplace=True)\n",
        "    plt.barh(W.feature, W.weight)\n",
        "\n",
        "def plot_reg_result(y_test, y_pred, N=50):\n",
        "    y_test=y_test.ravel()\n",
        "    y_pred=y_pred.ravel()\n",
        "    plt.plot(y_test[:N], 'r.-', label='y_test')\n",
        "    plt.plot(y_pred[:N], 'b.--', label='y_pred')\n",
        "    plt.legend()\n",
        "    plt.show()\n",
        "    plt.title(\"Residue Plot\")\n",
        "    plt.scatter(y_test, y_test-y_pred, s=5)\n"
      ]
    },
    {
      "cell_type": "markdown",
      "id": "7b45d068",
      "metadata": {
        "id": "7b45d068"
      },
      "source": [
        "#\n",
        "# 1. Data Load"
      ]
    },
    {
      "cell_type": "markdown",
      "id": "3de8099c",
      "metadata": {
        "id": "3de8099c"
      },
      "source": [
        "### 1-1) Data Import"
      ]
    },
    {
      "cell_type": "code",
      "execution_count": null,
      "id": "5d099458",
      "metadata": {
        "id": "5d099458",
        "outputId": "0f40f9e6-47de-4249-d74a-c79f56194677"
      },
      "outputs": [
        {
          "data": {
            "text/plain": [
              "Index(['NO', 'YEAR_MONTH', 'CB_TYPE', 'VSL_TYPE', 'TC_TYPE', 'CB_INDEX',\n",
              "       'IND_12', 'IND_11', 'IND_10', 'IND_9', 'IND_8', 'IND_7', 'IND_6',\n",
              "       'IND_5', 'IND_4', 'IND_3', 'IND_2', 'IND_1', 'M_12', 'M_11', 'M_10',\n",
              "       'M_9', 'M_8', 'M_7', 'M_6', 'M_5', 'M_4', 'M_3', 'M_2', 'M_1',\n",
              "       'M_AVG_CB3', 'M_AVG_CB6', 'M_AVG_CB12', 'MHIRE_12', 'MHIRE_11',\n",
              "       'MHIRE_10', 'MHIRE_9', 'MHIRE_8', 'MHIRE_7', 'MHIRE_6', 'MHIRE_5',\n",
              "       'MHIRE_4', 'MHIRE_3', 'MHIRE_2', 'MHIRE_1', 'MHIRE_AVG_CB3',\n",
              "       'MHIRE_AVG_CB6', 'MHIRE_AVG_CB12', 'DAY_CB', 'DAY_HIRE'],\n",
              "      dtype='object')"
            ]
          },
          "execution_count": 193,
          "metadata": {},
          "output_type": "execute_result"
        }
      ],
      "source": [
        "data = pd.read_excel('CAPE.xlsx')\n",
        "data.columns"
      ]
    },
    {
      "cell_type": "markdown",
      "id": "17da677c",
      "metadata": {
        "id": "17da677c"
      },
      "source": [
        "### 1-2) 컬럼명 변환"
      ]
    },
    {
      "cell_type": "code",
      "execution_count": null,
      "id": "8aeb2e40",
      "metadata": {
        "id": "8aeb2e40",
        "outputId": "84009b30-45da-468e-c417-8257b3014357"
      },
      "outputs": [
        {
          "data": {
            "text/plain": [
              "(196, 50)"
            ]
          },
          "execution_count": 194,
          "metadata": {},
          "output_type": "execute_result"
        }
      ],
      "source": [
        "data.columns = ['No', 'Month', 'Line', 'Type', 'Owned',\n",
        "                'BDI','IND-12', 'IND-11', 'IND-10', 'IND-9', 'IND-8', 'IND-7', 'IND-6', 'IND-5', 'IND-4', 'IND-3', 'IND-2', 'IND-1',\n",
        "                'M-12', 'M-11', 'M-10', 'M-9', 'M-8', 'M-7', 'M-6', 'M-5', 'M-4', 'M-3', 'M-2', 'M-1',\n",
        "                'M-AVG3', 'M-AVG6', 'M-AVG12',\n",
        "                'TC-12', 'TC-11', 'TC-10', 'TC-9', 'TC-8', 'TC-7', 'TC-6', 'TC-5', 'TC-4', 'TC-3', 'TC-2', 'TC-1',\n",
        "                'TC-AVG3','TC-AVG6','TC-AVG12',\n",
        "                'DAY_CB', 'DAY_HIRE']\n",
        "data.shape"
      ]
    },
    {
      "cell_type": "code",
      "execution_count": null,
      "id": "1205c58a",
      "metadata": {
        "id": "1205c58a",
        "outputId": "32315afa-c507-458e-f7d0-51c4252a4e7f"
      },
      "outputs": [
        {
          "data": {
            "text/html": [
              "<div>\n",
              "<style scoped>\n",
              "    .dataframe tbody tr th:only-of-type {\n",
              "        vertical-align: middle;\n",
              "    }\n",
              "\n",
              "    .dataframe tbody tr th {\n",
              "        vertical-align: top;\n",
              "    }\n",
              "\n",
              "    .dataframe thead th {\n",
              "        text-align: right;\n",
              "    }\n",
              "</style>\n",
              "<table border=\"1\" class=\"dataframe\">\n",
              "  <thead>\n",
              "    <tr style=\"text-align: right;\">\n",
              "      <th></th>\n",
              "      <th>No</th>\n",
              "      <th>Month</th>\n",
              "      <th>Line</th>\n",
              "      <th>Type</th>\n",
              "      <th>Owned</th>\n",
              "      <th>BDI</th>\n",
              "      <th>IND-12</th>\n",
              "      <th>IND-11</th>\n",
              "      <th>IND-10</th>\n",
              "      <th>IND-9</th>\n",
              "      <th>...</th>\n",
              "      <th>TC-5</th>\n",
              "      <th>TC-4</th>\n",
              "      <th>TC-3</th>\n",
              "      <th>TC-2</th>\n",
              "      <th>TC-1</th>\n",
              "      <th>TC-AVG3</th>\n",
              "      <th>TC-AVG6</th>\n",
              "      <th>TC-AVG12</th>\n",
              "      <th>DAY_CB</th>\n",
              "      <th>DAY_HIRE</th>\n",
              "    </tr>\n",
              "  </thead>\n",
              "  <tbody>\n",
              "    <tr>\n",
              "      <th>0</th>\n",
              "      <td>101</td>\n",
              "      <td>201501</td>\n",
              "      <td>TR</td>\n",
              "      <td>CAPE</td>\n",
              "      <td>OWNED</td>\n",
              "      <td>627</td>\n",
              "      <td>2171</td>\n",
              "      <td>1674</td>\n",
              "      <td>2766</td>\n",
              "      <td>1887</td>\n",
              "      <td>...</td>\n",
              "      <td>0</td>\n",
              "      <td>0</td>\n",
              "      <td>0</td>\n",
              "      <td>0</td>\n",
              "      <td>0</td>\n",
              "      <td>0</td>\n",
              "      <td>0</td>\n",
              "      <td>0</td>\n",
              "      <td>19858</td>\n",
              "      <td>0</td>\n",
              "    </tr>\n",
              "    <tr>\n",
              "      <th>1</th>\n",
              "      <td>109</td>\n",
              "      <td>201502</td>\n",
              "      <td>TR</td>\n",
              "      <td>CAPE</td>\n",
              "      <td>OWNED</td>\n",
              "      <td>612</td>\n",
              "      <td>1674</td>\n",
              "      <td>2766</td>\n",
              "      <td>1887</td>\n",
              "      <td>1508</td>\n",
              "      <td>...</td>\n",
              "      <td>0</td>\n",
              "      <td>0</td>\n",
              "      <td>0</td>\n",
              "      <td>0</td>\n",
              "      <td>0</td>\n",
              "      <td>0</td>\n",
              "      <td>0</td>\n",
              "      <td>0</td>\n",
              "      <td>17825</td>\n",
              "      <td>0</td>\n",
              "    </tr>\n",
              "    <tr>\n",
              "      <th>2</th>\n",
              "      <td>117</td>\n",
              "      <td>201503</td>\n",
              "      <td>TR</td>\n",
              "      <td>CAPE</td>\n",
              "      <td>OWNED</td>\n",
              "      <td>439</td>\n",
              "      <td>2766</td>\n",
              "      <td>1887</td>\n",
              "      <td>1508</td>\n",
              "      <td>1768</td>\n",
              "      <td>...</td>\n",
              "      <td>0</td>\n",
              "      <td>0</td>\n",
              "      <td>0</td>\n",
              "      <td>0</td>\n",
              "      <td>0</td>\n",
              "      <td>0</td>\n",
              "      <td>0</td>\n",
              "      <td>0</td>\n",
              "      <td>18370</td>\n",
              "      <td>0</td>\n",
              "    </tr>\n",
              "  </tbody>\n",
              "</table>\n",
              "<p>3 rows × 50 columns</p>\n",
              "</div>"
            ],
            "text/plain": [
              "    No   Month Line  Type  Owned  BDI  IND-12  IND-11  IND-10  IND-9  ...  \\\n",
              "0  101  201501   TR  CAPE  OWNED  627    2171    1674    2766   1887  ...   \n",
              "1  109  201502   TR  CAPE  OWNED  612    1674    2766    1887   1508  ...   \n",
              "2  117  201503   TR  CAPE  OWNED  439    2766    1887    1508   1768  ...   \n",
              "\n",
              "   TC-5  TC-4  TC-3  TC-2  TC-1  TC-AVG3  TC-AVG6  TC-AVG12  DAY_CB  DAY_HIRE  \n",
              "0     0     0     0     0     0        0        0         0   19858         0  \n",
              "1     0     0     0     0     0        0        0         0   17825         0  \n",
              "2     0     0     0     0     0        0        0         0   18370         0  \n",
              "\n",
              "[3 rows x 50 columns]"
            ]
          },
          "execution_count": 195,
          "metadata": {},
          "output_type": "execute_result"
        }
      ],
      "source": [
        "data[:3]"
      ]
    },
    {
      "cell_type": "code",
      "execution_count": null,
      "id": "281896c1",
      "metadata": {
        "id": "281896c1",
        "outputId": "b42e1f51-6757-4eb9-e95c-cb413d42e2bc"
      },
      "outputs": [
        {
          "data": {
            "text/html": [
              "<div>\n",
              "<style scoped>\n",
              "    .dataframe tbody tr th:only-of-type {\n",
              "        vertical-align: middle;\n",
              "    }\n",
              "\n",
              "    .dataframe tbody tr th {\n",
              "        vertical-align: top;\n",
              "    }\n",
              "\n",
              "    .dataframe thead th {\n",
              "        text-align: right;\n",
              "    }\n",
              "</style>\n",
              "<table border=\"1\" class=\"dataframe\">\n",
              "  <thead>\n",
              "    <tr style=\"text-align: right;\">\n",
              "      <th></th>\n",
              "      <th>No</th>\n",
              "      <th>Line</th>\n",
              "      <th>Type</th>\n",
              "      <th>Owned</th>\n",
              "      <th>BDI</th>\n",
              "      <th>IND-12</th>\n",
              "      <th>IND-11</th>\n",
              "      <th>IND-10</th>\n",
              "      <th>IND-9</th>\n",
              "      <th>IND-8</th>\n",
              "      <th>...</th>\n",
              "      <th>TC-5</th>\n",
              "      <th>TC-4</th>\n",
              "      <th>TC-3</th>\n",
              "      <th>TC-2</th>\n",
              "      <th>TC-1</th>\n",
              "      <th>TC-AVG3</th>\n",
              "      <th>TC-AVG6</th>\n",
              "      <th>TC-AVG12</th>\n",
              "      <th>DAY_CB</th>\n",
              "      <th>DAY_HIRE</th>\n",
              "    </tr>\n",
              "    <tr>\n",
              "      <th>Month</th>\n",
              "      <th></th>\n",
              "      <th></th>\n",
              "      <th></th>\n",
              "      <th></th>\n",
              "      <th></th>\n",
              "      <th></th>\n",
              "      <th></th>\n",
              "      <th></th>\n",
              "      <th></th>\n",
              "      <th></th>\n",
              "      <th></th>\n",
              "      <th></th>\n",
              "      <th></th>\n",
              "      <th></th>\n",
              "      <th></th>\n",
              "      <th></th>\n",
              "      <th></th>\n",
              "      <th></th>\n",
              "      <th></th>\n",
              "      <th></th>\n",
              "      <th></th>\n",
              "    </tr>\n",
              "  </thead>\n",
              "  <tbody>\n",
              "    <tr>\n",
              "      <th>201501</th>\n",
              "      <td>101</td>\n",
              "      <td>TR</td>\n",
              "      <td>CAPE</td>\n",
              "      <td>OWNED</td>\n",
              "      <td>627</td>\n",
              "      <td>2171</td>\n",
              "      <td>1674</td>\n",
              "      <td>2766</td>\n",
              "      <td>1887</td>\n",
              "      <td>1508</td>\n",
              "      <td>...</td>\n",
              "      <td>0</td>\n",
              "      <td>0</td>\n",
              "      <td>0</td>\n",
              "      <td>0</td>\n",
              "      <td>0</td>\n",
              "      <td>0</td>\n",
              "      <td>0</td>\n",
              "      <td>0</td>\n",
              "      <td>19858</td>\n",
              "      <td>0</td>\n",
              "    </tr>\n",
              "    <tr>\n",
              "      <th>201502</th>\n",
              "      <td>109</td>\n",
              "      <td>TR</td>\n",
              "      <td>CAPE</td>\n",
              "      <td>OWNED</td>\n",
              "      <td>612</td>\n",
              "      <td>1674</td>\n",
              "      <td>2766</td>\n",
              "      <td>1887</td>\n",
              "      <td>1508</td>\n",
              "      <td>1768</td>\n",
              "      <td>...</td>\n",
              "      <td>0</td>\n",
              "      <td>0</td>\n",
              "      <td>0</td>\n",
              "      <td>0</td>\n",
              "      <td>0</td>\n",
              "      <td>0</td>\n",
              "      <td>0</td>\n",
              "      <td>0</td>\n",
              "      <td>17825</td>\n",
              "      <td>0</td>\n",
              "    </tr>\n",
              "    <tr>\n",
              "      <th>201503</th>\n",
              "      <td>117</td>\n",
              "      <td>TR</td>\n",
              "      <td>CAPE</td>\n",
              "      <td>OWNED</td>\n",
              "      <td>439</td>\n",
              "      <td>2766</td>\n",
              "      <td>1887</td>\n",
              "      <td>1508</td>\n",
              "      <td>1768</td>\n",
              "      <td>1451</td>\n",
              "      <td>...</td>\n",
              "      <td>0</td>\n",
              "      <td>0</td>\n",
              "      <td>0</td>\n",
              "      <td>0</td>\n",
              "      <td>0</td>\n",
              "      <td>0</td>\n",
              "      <td>0</td>\n",
              "      <td>0</td>\n",
              "      <td>18370</td>\n",
              "      <td>0</td>\n",
              "    </tr>\n",
              "    <tr>\n",
              "      <th>201504</th>\n",
              "      <td>125</td>\n",
              "      <td>TR</td>\n",
              "      <td>CAPE</td>\n",
              "      <td>OWNED</td>\n",
              "      <td>508</td>\n",
              "      <td>1887</td>\n",
              "      <td>1508</td>\n",
              "      <td>1768</td>\n",
              "      <td>1451</td>\n",
              "      <td>1854</td>\n",
              "      <td>...</td>\n",
              "      <td>0</td>\n",
              "      <td>0</td>\n",
              "      <td>0</td>\n",
              "      <td>0</td>\n",
              "      <td>0</td>\n",
              "      <td>0</td>\n",
              "      <td>0</td>\n",
              "      <td>0</td>\n",
              "      <td>19303</td>\n",
              "      <td>0</td>\n",
              "    </tr>\n",
              "    <tr>\n",
              "      <th>201505</th>\n",
              "      <td>133</td>\n",
              "      <td>TR</td>\n",
              "      <td>CAPE</td>\n",
              "      <td>OWNED</td>\n",
              "      <td>782</td>\n",
              "      <td>1508</td>\n",
              "      <td>1768</td>\n",
              "      <td>1451</td>\n",
              "      <td>1854</td>\n",
              "      <td>2306</td>\n",
              "      <td>...</td>\n",
              "      <td>0</td>\n",
              "      <td>0</td>\n",
              "      <td>0</td>\n",
              "      <td>0</td>\n",
              "      <td>0</td>\n",
              "      <td>0</td>\n",
              "      <td>0</td>\n",
              "      <td>0</td>\n",
              "      <td>19964</td>\n",
              "      <td>0</td>\n",
              "    </tr>\n",
              "    <tr>\n",
              "      <th>...</th>\n",
              "      <td>...</td>\n",
              "      <td>...</td>\n",
              "      <td>...</td>\n",
              "      <td>...</td>\n",
              "      <td>...</td>\n",
              "      <td>...</td>\n",
              "      <td>...</td>\n",
              "      <td>...</td>\n",
              "      <td>...</td>\n",
              "      <td>...</td>\n",
              "      <td>...</td>\n",
              "      <td>...</td>\n",
              "      <td>...</td>\n",
              "      <td>...</td>\n",
              "      <td>...</td>\n",
              "      <td>...</td>\n",
              "      <td>...</td>\n",
              "      <td>...</td>\n",
              "      <td>...</td>\n",
              "      <td>...</td>\n",
              "      <td>...</td>\n",
              "    </tr>\n",
              "    <tr>\n",
              "      <th>202304</th>\n",
              "      <td>894</td>\n",
              "      <td>TR</td>\n",
              "      <td>CAPE</td>\n",
              "      <td>TC</td>\n",
              "      <td>1921</td>\n",
              "      <td>1690</td>\n",
              "      <td>3514</td>\n",
              "      <td>2518</td>\n",
              "      <td>2432</td>\n",
              "      <td>1126</td>\n",
              "      <td>...</td>\n",
              "      <td>18456</td>\n",
              "      <td>16761</td>\n",
              "      <td>14898</td>\n",
              "      <td>12444</td>\n",
              "      <td>12680</td>\n",
              "      <td>13341</td>\n",
              "      <td>15941</td>\n",
              "      <td>20407</td>\n",
              "      <td>14538</td>\n",
              "      <td>14498</td>\n",
              "    </tr>\n",
              "    <tr>\n",
              "      <th>202305</th>\n",
              "      <td>902</td>\n",
              "      <td>TR</td>\n",
              "      <td>CAPE</td>\n",
              "      <td>TC</td>\n",
              "      <td>2143</td>\n",
              "      <td>3514</td>\n",
              "      <td>2518</td>\n",
              "      <td>2432</td>\n",
              "      <td>1126</td>\n",
              "      <td>1421</td>\n",
              "      <td>...</td>\n",
              "      <td>16761</td>\n",
              "      <td>14898</td>\n",
              "      <td>12444</td>\n",
              "      <td>12680</td>\n",
              "      <td>14498</td>\n",
              "      <td>13207</td>\n",
              "      <td>14956</td>\n",
              "      <td>19462</td>\n",
              "      <td>14683</td>\n",
              "      <td>14724</td>\n",
              "    </tr>\n",
              "    <tr>\n",
              "      <th>202306</th>\n",
              "      <td>910</td>\n",
              "      <td>TR</td>\n",
              "      <td>CAPE</td>\n",
              "      <td>TC</td>\n",
              "      <td>1597</td>\n",
              "      <td>2518</td>\n",
              "      <td>2432</td>\n",
              "      <td>1126</td>\n",
              "      <td>1421</td>\n",
              "      <td>2117</td>\n",
              "      <td>...</td>\n",
              "      <td>14898</td>\n",
              "      <td>12444</td>\n",
              "      <td>12680</td>\n",
              "      <td>14498</td>\n",
              "      <td>14724</td>\n",
              "      <td>13967</td>\n",
              "      <td>14334</td>\n",
              "      <td>18590</td>\n",
              "      <td>14281</td>\n",
              "      <td>13866</td>\n",
              "    </tr>\n",
              "    <tr>\n",
              "      <th>202307</th>\n",
              "      <td>918</td>\n",
              "      <td>TR</td>\n",
              "      <td>CAPE</td>\n",
              "      <td>TC</td>\n",
              "      <td>1591</td>\n",
              "      <td>2432</td>\n",
              "      <td>1126</td>\n",
              "      <td>1421</td>\n",
              "      <td>2117</td>\n",
              "      <td>1399</td>\n",
              "      <td>...</td>\n",
              "      <td>12444</td>\n",
              "      <td>12680</td>\n",
              "      <td>14498</td>\n",
              "      <td>14724</td>\n",
              "      <td>13866</td>\n",
              "      <td>14363</td>\n",
              "      <td>13852</td>\n",
              "      <td>17487</td>\n",
              "      <td>13870</td>\n",
              "      <td>13045</td>\n",
              "    </tr>\n",
              "    <tr>\n",
              "      <th>202308</th>\n",
              "      <td>926</td>\n",
              "      <td>TR</td>\n",
              "      <td>CAPE</td>\n",
              "      <td>TC</td>\n",
              "      <td>1561</td>\n",
              "      <td>1126</td>\n",
              "      <td>1421</td>\n",
              "      <td>2117</td>\n",
              "      <td>1399</td>\n",
              "      <td>1918</td>\n",
              "      <td>...</td>\n",
              "      <td>12680</td>\n",
              "      <td>14498</td>\n",
              "      <td>14724</td>\n",
              "      <td>13866</td>\n",
              "      <td>13045</td>\n",
              "      <td>13878</td>\n",
              "      <td>13543</td>\n",
              "      <td>16397</td>\n",
              "      <td>11713</td>\n",
              "      <td>11728</td>\n",
              "    </tr>\n",
              "  </tbody>\n",
              "</table>\n",
              "<p>196 rows × 49 columns</p>\n",
              "</div>"
            ],
            "text/plain": [
              "         No Line  Type  Owned   BDI  IND-12  IND-11  IND-10  IND-9  IND-8  \\\n",
              "Month                                                                       \n",
              "201501  101   TR  CAPE  OWNED   627    2171    1674    2766   1887   1508   \n",
              "201502  109   TR  CAPE  OWNED   612    1674    2766    1887   1508   1768   \n",
              "201503  117   TR  CAPE  OWNED   439    2766    1887    1508   1768   1451   \n",
              "201504  125   TR  CAPE  OWNED   508    1887    1508    1768   1451   1854   \n",
              "201505  133   TR  CAPE  OWNED   782    1508    1768    1451   1854   2306   \n",
              "...     ...  ...   ...    ...   ...     ...     ...     ...    ...    ...   \n",
              "202304  894   TR  CAPE     TC  1921    1690    3514    2518   2432   1126   \n",
              "202305  902   TR  CAPE     TC  2143    3514    2518    2432   1126   1421   \n",
              "202306  910   TR  CAPE     TC  1597    2518    2432    1126   1421   2117   \n",
              "202307  918   TR  CAPE     TC  1591    2432    1126    1421   2117   1399   \n",
              "202308  926   TR  CAPE     TC  1561    1126    1421    2117   1399   1918   \n",
              "\n",
              "        ...   TC-5   TC-4   TC-3   TC-2   TC-1  TC-AVG3  TC-AVG6  TC-AVG12  \\\n",
              "Month   ...                                                                  \n",
              "201501  ...      0      0      0      0      0        0        0         0   \n",
              "201502  ...      0      0      0      0      0        0        0         0   \n",
              "201503  ...      0      0      0      0      0        0        0         0   \n",
              "201504  ...      0      0      0      0      0        0        0         0   \n",
              "201505  ...      0      0      0      0      0        0        0         0   \n",
              "...     ...    ...    ...    ...    ...    ...      ...      ...       ...   \n",
              "202304  ...  18456  16761  14898  12444  12680    13341    15941     20407   \n",
              "202305  ...  16761  14898  12444  12680  14498    13207    14956     19462   \n",
              "202306  ...  14898  12444  12680  14498  14724    13967    14334     18590   \n",
              "202307  ...  12444  12680  14498  14724  13866    14363    13852     17487   \n",
              "202308  ...  12680  14498  14724  13866  13045    13878    13543     16397   \n",
              "\n",
              "        DAY_CB  DAY_HIRE  \n",
              "Month                     \n",
              "201501   19858         0  \n",
              "201502   17825         0  \n",
              "201503   18370         0  \n",
              "201504   19303         0  \n",
              "201505   19964         0  \n",
              "...        ...       ...  \n",
              "202304   14538     14498  \n",
              "202305   14683     14724  \n",
              "202306   14281     13866  \n",
              "202307   13870     13045  \n",
              "202308   11713     11728  \n",
              "\n",
              "[196 rows x 49 columns]"
            ]
          },
          "execution_count": 196,
          "metadata": {},
          "output_type": "execute_result"
        }
      ],
      "source": [
        "data.set_index('Month', inplace=True)\n",
        "data"
      ]
    },
    {
      "cell_type": "markdown",
      "id": "331e293b",
      "metadata": {
        "id": "331e293b"
      },
      "source": [
        "#\n",
        "# 2. 불필요 컬럼 삭제\n",
        "- 공통 : No, Month, Line, Type, Owned\n",
        "- 사선 : Day_Hire"
      ]
    },
    {
      "cell_type": "markdown",
      "id": "630b149a",
      "metadata": {
        "id": "630b149a"
      },
      "source": [
        "### 2-1) 공통 불필요 항목 삭제"
      ]
    },
    {
      "cell_type": "code",
      "execution_count": null,
      "id": "9ca5ae5e",
      "metadata": {
        "id": "9ca5ae5e",
        "outputId": "75b6a7c0-c01e-4e9e-d5f2-0b3a0af0bbdf"
      },
      "outputs": [
        {
          "data": {
            "text/html": [
              "<div>\n",
              "<style scoped>\n",
              "    .dataframe tbody tr th:only-of-type {\n",
              "        vertical-align: middle;\n",
              "    }\n",
              "\n",
              "    .dataframe tbody tr th {\n",
              "        vertical-align: top;\n",
              "    }\n",
              "\n",
              "    .dataframe thead th {\n",
              "        text-align: right;\n",
              "    }\n",
              "</style>\n",
              "<table border=\"1\" class=\"dataframe\">\n",
              "  <thead>\n",
              "    <tr style=\"text-align: right;\">\n",
              "      <th></th>\n",
              "      <th>Owned</th>\n",
              "      <th>BDI</th>\n",
              "      <th>IND-12</th>\n",
              "      <th>IND-11</th>\n",
              "      <th>IND-10</th>\n",
              "      <th>IND-9</th>\n",
              "      <th>IND-8</th>\n",
              "      <th>IND-7</th>\n",
              "      <th>IND-6</th>\n",
              "      <th>IND-5</th>\n",
              "      <th>...</th>\n",
              "      <th>TC-5</th>\n",
              "      <th>TC-4</th>\n",
              "      <th>TC-3</th>\n",
              "      <th>TC-2</th>\n",
              "      <th>TC-1</th>\n",
              "      <th>TC-AVG3</th>\n",
              "      <th>TC-AVG6</th>\n",
              "      <th>TC-AVG12</th>\n",
              "      <th>DAY_CB</th>\n",
              "      <th>DAY_HIRE</th>\n",
              "    </tr>\n",
              "    <tr>\n",
              "      <th>Month</th>\n",
              "      <th></th>\n",
              "      <th></th>\n",
              "      <th></th>\n",
              "      <th></th>\n",
              "      <th></th>\n",
              "      <th></th>\n",
              "      <th></th>\n",
              "      <th></th>\n",
              "      <th></th>\n",
              "      <th></th>\n",
              "      <th></th>\n",
              "      <th></th>\n",
              "      <th></th>\n",
              "      <th></th>\n",
              "      <th></th>\n",
              "      <th></th>\n",
              "      <th></th>\n",
              "      <th></th>\n",
              "      <th></th>\n",
              "      <th></th>\n",
              "      <th></th>\n",
              "    </tr>\n",
              "  </thead>\n",
              "  <tbody>\n",
              "    <tr>\n",
              "      <th>201501</th>\n",
              "      <td>OWNED</td>\n",
              "      <td>627</td>\n",
              "      <td>2171</td>\n",
              "      <td>1674</td>\n",
              "      <td>2766</td>\n",
              "      <td>1887</td>\n",
              "      <td>1508</td>\n",
              "      <td>1768</td>\n",
              "      <td>1451</td>\n",
              "      <td>1854</td>\n",
              "      <td>...</td>\n",
              "      <td>0</td>\n",
              "      <td>0</td>\n",
              "      <td>0</td>\n",
              "      <td>0</td>\n",
              "      <td>0</td>\n",
              "      <td>0</td>\n",
              "      <td>0</td>\n",
              "      <td>0</td>\n",
              "      <td>19858</td>\n",
              "      <td>0</td>\n",
              "    </tr>\n",
              "    <tr>\n",
              "      <th>201502</th>\n",
              "      <td>OWNED</td>\n",
              "      <td>612</td>\n",
              "      <td>1674</td>\n",
              "      <td>2766</td>\n",
              "      <td>1887</td>\n",
              "      <td>1508</td>\n",
              "      <td>1768</td>\n",
              "      <td>1451</td>\n",
              "      <td>1854</td>\n",
              "      <td>2306</td>\n",
              "      <td>...</td>\n",
              "      <td>0</td>\n",
              "      <td>0</td>\n",
              "      <td>0</td>\n",
              "      <td>0</td>\n",
              "      <td>0</td>\n",
              "      <td>0</td>\n",
              "      <td>0</td>\n",
              "      <td>0</td>\n",
              "      <td>17825</td>\n",
              "      <td>0</td>\n",
              "    </tr>\n",
              "    <tr>\n",
              "      <th>201503</th>\n",
              "      <td>OWNED</td>\n",
              "      <td>439</td>\n",
              "      <td>2766</td>\n",
              "      <td>1887</td>\n",
              "      <td>1508</td>\n",
              "      <td>1768</td>\n",
              "      <td>1451</td>\n",
              "      <td>1854</td>\n",
              "      <td>2306</td>\n",
              "      <td>2085</td>\n",
              "      <td>...</td>\n",
              "      <td>0</td>\n",
              "      <td>0</td>\n",
              "      <td>0</td>\n",
              "      <td>0</td>\n",
              "      <td>0</td>\n",
              "      <td>0</td>\n",
              "      <td>0</td>\n",
              "      <td>0</td>\n",
              "      <td>18370</td>\n",
              "      <td>0</td>\n",
              "    </tr>\n",
              "  </tbody>\n",
              "</table>\n",
              "<p>3 rows × 46 columns</p>\n",
              "</div>"
            ],
            "text/plain": [
              "        Owned  BDI  IND-12  IND-11  IND-10  IND-9  IND-8  IND-7  IND-6  IND-5  \\\n",
              "Month                                                                           \n",
              "201501  OWNED  627    2171    1674    2766   1887   1508   1768   1451   1854   \n",
              "201502  OWNED  612    1674    2766    1887   1508   1768   1451   1854   2306   \n",
              "201503  OWNED  439    2766    1887    1508   1768   1451   1854   2306   2085   \n",
              "\n",
              "        ...  TC-5  TC-4  TC-3  TC-2  TC-1  TC-AVG3  TC-AVG6  TC-AVG12  DAY_CB  \\\n",
              "Month   ...                                                                     \n",
              "201501  ...     0     0     0     0     0        0        0         0   19858   \n",
              "201502  ...     0     0     0     0     0        0        0         0   17825   \n",
              "201503  ...     0     0     0     0     0        0        0         0   18370   \n",
              "\n",
              "        DAY_HIRE  \n",
              "Month             \n",
              "201501         0  \n",
              "201502         0  \n",
              "201503         0  \n",
              "\n",
              "[3 rows x 46 columns]"
            ]
          },
          "execution_count": 197,
          "metadata": {},
          "output_type": "execute_result"
        }
      ],
      "source": [
        "data = data.drop(columns=['No', 'Line', 'Type'], axis=1)\n",
        "data[:3]"
      ]
    },
    {
      "cell_type": "markdown",
      "id": "b1807cdb",
      "metadata": {
        "id": "b1807cdb"
      },
      "source": [
        "### 2-2) 사선/용선 데이터 모델 분리"
      ]
    },
    {
      "cell_type": "code",
      "execution_count": null,
      "id": "ee02c888",
      "metadata": {
        "id": "ee02c888",
        "outputId": "e7500b19-50a6-43a8-c466-6a75a70b3749"
      },
      "outputs": [
        {
          "data": {
            "text/plain": [
              "((104, 29), (92, 45))"
            ]
          },
          "execution_count": 198,
          "metadata": {},
          "output_type": "execute_result"
        }
      ],
      "source": [
        "data_owned = data[data.Owned == 'OWNED'].drop(columns=['Owned', 'TC-12', 'TC-11', 'TC-10', 'TC-9', 'TC-8', 'TC-7', 'TC-6', 'TC-5', 'TC-4',\n",
        "                                                       'TC-3', 'TC-2', 'TC-1', 'TC-AVG3','TC-AVG6','TC-AVG12', 'DAY_HIRE'], axis=1)\n",
        "data_tc    = data[data.Owned == 'TC'].drop(columns=['Owned'], axis=1)\n",
        "\n",
        "data_owned.shape, data_tc.shape"
      ]
    },
    {
      "cell_type": "markdown",
      "id": "827069e4",
      "metadata": {
        "id": "827069e4"
      },
      "source": [
        "#\n",
        "# 3. 모델 테스트 (사선)"
      ]
    },
    {
      "cell_type": "code",
      "execution_count": null,
      "id": "31182185",
      "metadata": {
        "id": "31182185"
      },
      "outputs": [],
      "source": [
        "df_owned = data_owned.copy()"
      ]
    },
    {
      "cell_type": "markdown",
      "id": "3d0a8f86",
      "metadata": {
        "id": "3d0a8f86"
      },
      "source": [
        "### * 훈련 데이터/테스트 데이터를 통한 시각화 Function"
      ]
    },
    {
      "cell_type": "code",
      "execution_count": null,
      "id": "d43161bc",
      "metadata": {
        "id": "d43161bc"
      },
      "outputs": [],
      "source": [
        "import matplotlib.pyplot as plt\n",
        "from sklearn.model_selection import train_test_split\n",
        "\n",
        "def eval_on_features(features, target, n_train, model):\n",
        "\n",
        "    X = df_owned.index.astype(\"int64\").values.reshape(-1, 1)\n",
        "    xticks = pd.date_range(start=df_owned.index.min(), end=df_owned.index.max(), freq='M')\n",
        "    #print(xticks)\n",
        "\n",
        "    # 년도와 월을 추출하여 xticks_name을 생성합니다.\n",
        "    xticks_name = [date.strftime(\"%Y-%m\") for date in xticks]\n",
        "    #month = [\"Jan\", \"Feb\", \"Mar\",\"Apr\", \"May\", \"Jun\", \"Jul\", \"Aug\", 'Oct', 'Sep', 'Nov', 'Dec']\n",
        "    #xticks_name = [month[int(m)]+d for m, d in zip(xticks.strftime(\"%m\"),xticks.strftime(\" %m-%d\"))]\n",
        "    #plt.xticks(xticks, xticks_name, rotation=90, ha='left')\n",
        "    #print(xticks_name)\n",
        "\n",
        "    X_train, X_test = features[:n_train], features[n_train:]\n",
        "    y_train, y_test = target[:n_train], target[n_train:]\n",
        "    #X_train, X_test, y_train, y_test = train_test_split(features, target, test_size=n_train, shuffle=False)\n",
        "\n",
        "    model.fit(X_train, y_train)\n",
        "    print('Train : {:.2f}'.format(model.score(X_train, y_train)))\n",
        "    print('Test : {:.2f}'.format(model.score(X_test, y_test)))\n",
        "\n",
        "    y_pred = model.predict(X_test)\n",
        "    y_pred_train = model.predict(X_train)\n",
        "    plt.figure(figsize=(12, 5))\n",
        "\n",
        "    #plt.xticks(range(0, len(xticks_name), 8), xticks_name, rotation=90, ha=\"left\")\n",
        "\n",
        "    plt.plot(range(n_train), y_train, label=\"Train\")\n",
        "    plt.plot(range(n_train, len(y_test) + n_train), y_test, '-', label=\"Test\")\n",
        "    plt.plot(range(n_train), y_pred_train, '--', label=\"Train Pred\")\n",
        "    plt.plot(range(n_train, len(y_test) + n_train), y_pred, '--', label=\"Test Pred\")\n",
        "\n",
        "    plt.legend(loc='best')\n",
        "    plt.title(model)\n",
        "    plt.xlabel(\"Date\")\n",
        "    plt.ylabel(\"Daily C/B\")\n",
        "\n",
        "    return y_train, y_test, y_pred"
      ]
    },
    {
      "cell_type": "code",
      "execution_count": null,
      "id": "9b49a67e",
      "metadata": {
        "scrolled": true,
        "id": "9b49a67e",
        "outputId": "8d5c8a51-e2a9-418e-d89e-131b52dbf009"
      },
      "outputs": [
        {
          "data": {
            "text/plain": [
              "((104, 28), (104,))"
            ]
          },
          "execution_count": 201,
          "metadata": {},
          "output_type": "execute_result"
        }
      ],
      "source": [
        "X_owned = df_owned.drop('DAY_CB', axis=1)\n",
        "y_owned = df_owned.DAY_CB\n",
        "\n",
        "n_train = int(len(X_owned)*0.75)\n",
        "\n",
        "X_owned.shape, y_owned.shape"
      ]
    },
    {
      "cell_type": "markdown",
      "id": "f044d40a",
      "metadata": {
        "id": "f044d40a"
      },
      "source": [
        "### (Test) R-Squared 저하로 인해 이동 평균 항목 삭제"
      ]
    },
    {
      "cell_type": "code",
      "execution_count": null,
      "id": "ba2a721f",
      "metadata": {
        "id": "ba2a721f"
      },
      "outputs": [],
      "source": [
        "# X_owned = X_owned.drop(columns=['M-AVG3', 'M-AVG6', 'M-AVG12'], axis=1)\n",
        "# X_owned.info()"
      ]
    },
    {
      "cell_type": "markdown",
      "id": "7ea67f07",
      "metadata": {
        "id": "7ea67f07"
      },
      "source": [
        "### 3-1) LinearRegression"
      ]
    },
    {
      "cell_type": "code",
      "execution_count": null,
      "id": "907a293b",
      "metadata": {
        "id": "907a293b",
        "outputId": "80a0f4ca-3b62-43f3-e535-cc5a5fd59db0"
      },
      "outputs": [
        {
          "data": {
            "text/plain": [
              "(0.9385567997193994, 0.8432201087450408)"
            ]
          },
          "execution_count": 251,
          "metadata": {},
          "output_type": "execute_result"
        }
      ],
      "source": [
        "from sklearn.linear_model import LinearRegression\n",
        "\n",
        "# y_train, y_test, y_pred = eval_on_features(X_owned, y_owned, n_train, LinearRegression())\n",
        "\n",
        "X_train, X_test, y_train, y_test = train_test_split(X_owned, y_owned, random_state=1)\n",
        "\n",
        "lr = LinearRegression()\n",
        "lr.fit(X_train, y_train)\n",
        "\n",
        "y_pred = lr.predict(X_test)\n",
        "\n",
        "lr.score(X_train, y_train), lr.score(X_test, y_test)"
      ]
    },
    {
      "cell_type": "code",
      "execution_count": null,
      "id": "a0bca3dd",
      "metadata": {
        "id": "a0bca3dd",
        "outputId": "35393dec-a682-4a03-a06e-3f10f0fddc6c"
      },
      "outputs": [
        {
          "name": "stdout",
          "output_type": "stream",
          "text": [
            "Max Error:  2398.894\n",
            "Mean Absolute Error:  822.369\n",
            "Root Mean Squared Error:  1086.122\n",
            "R-Squared:  0.843\n"
          ]
        }
      ],
      "source": [
        "show_reg_result(y_test,y_pred)"
      ]
    },
    {
      "cell_type": "markdown",
      "id": "dddfc28e",
      "metadata": {
        "id": "dddfc28e"
      },
      "source": [
        "### 3-2) LGBMRegressor"
      ]
    },
    {
      "cell_type": "code",
      "execution_count": null,
      "id": "82d8305c",
      "metadata": {
        "id": "82d8305c",
        "outputId": "dfa1b836-63b4-4207-cec3-31274b8c56a8"
      },
      "outputs": [
        {
          "name": "stdout",
          "output_type": "stream",
          "text": [
            "[LightGBM] [Info] Auto-choosing col-wise multi-threading, the overhead of testing was 0.000097 seconds.\n",
            "You can set `force_col_wise=true` to remove the overhead.\n",
            "[LightGBM] [Info] Total Bins 766\n",
            "[LightGBM] [Info] Number of data points in the train set: 78, number of used features: 28\n",
            "[LightGBM] [Info] Start training from score 21577.589744\n",
            "[LightGBM] [Warning] No further splits with positive gain, best gain: -inf\n",
            "[LightGBM] [Warning] No further splits with positive gain, best gain: -inf\n",
            "[LightGBM] [Warning] No further splits with positive gain, best gain: -inf\n",
            "[LightGBM] [Warning] No further splits with positive gain, best gain: -inf\n",
            "[LightGBM] [Warning] No further splits with positive gain, best gain: -inf\n",
            "[LightGBM] [Warning] No further splits with positive gain, best gain: -inf\n",
            "[LightGBM] [Warning] No further splits with positive gain, best gain: -inf\n",
            "[LightGBM] [Warning] No further splits with positive gain, best gain: -inf\n",
            "[LightGBM] [Warning] No further splits with positive gain, best gain: -inf\n",
            "[LightGBM] [Warning] No further splits with positive gain, best gain: -inf\n",
            "[LightGBM] [Warning] No further splits with positive gain, best gain: -inf\n",
            "[LightGBM] [Warning] No further splits with positive gain, best gain: -inf\n",
            "[LightGBM] [Warning] No further splits with positive gain, best gain: -inf\n",
            "[LightGBM] [Warning] No further splits with positive gain, best gain: -inf\n",
            "[LightGBM] [Warning] No further splits with positive gain, best gain: -inf\n",
            "[LightGBM] [Warning] No further splits with positive gain, best gain: -inf\n",
            "[LightGBM] [Warning] No further splits with positive gain, best gain: -inf\n",
            "[LightGBM] [Warning] No further splits with positive gain, best gain: -inf\n",
            "[LightGBM] [Warning] No further splits with positive gain, best gain: -inf\n",
            "[LightGBM] [Warning] No further splits with positive gain, best gain: -inf\n",
            "[LightGBM] [Warning] No further splits with positive gain, best gain: -inf\n",
            "[LightGBM] [Warning] No further splits with positive gain, best gain: -inf\n",
            "[LightGBM] [Warning] No further splits with positive gain, best gain: -inf\n",
            "[LightGBM] [Warning] No further splits with positive gain, best gain: -inf\n",
            "[LightGBM] [Warning] No further splits with positive gain, best gain: -inf\n",
            "[LightGBM] [Warning] No further splits with positive gain, best gain: -inf\n",
            "[LightGBM] [Warning] No further splits with positive gain, best gain: -inf\n",
            "[LightGBM] [Warning] No further splits with positive gain, best gain: -inf\n",
            "[LightGBM] [Warning] No further splits with positive gain, best gain: -inf\n",
            "[LightGBM] [Warning] No further splits with positive gain, best gain: -inf\n",
            "[LightGBM] [Warning] No further splits with positive gain, best gain: -inf\n",
            "[LightGBM] [Warning] No further splits with positive gain, best gain: -inf\n",
            "[LightGBM] [Warning] No further splits with positive gain, best gain: -inf\n",
            "[LightGBM] [Warning] No further splits with positive gain, best gain: -inf\n",
            "[LightGBM] [Warning] No further splits with positive gain, best gain: -inf\n",
            "[LightGBM] [Warning] No further splits with positive gain, best gain: -inf\n",
            "[LightGBM] [Warning] No further splits with positive gain, best gain: -inf\n",
            "[LightGBM] [Warning] No further splits with positive gain, best gain: -inf\n",
            "[LightGBM] [Warning] No further splits with positive gain, best gain: -inf\n",
            "[LightGBM] [Warning] No further splits with positive gain, best gain: -inf\n",
            "[LightGBM] [Warning] No further splits with positive gain, best gain: -inf\n",
            "[LightGBM] [Warning] No further splits with positive gain, best gain: -inf\n",
            "[LightGBM] [Warning] No further splits with positive gain, best gain: -inf\n",
            "[LightGBM] [Warning] No further splits with positive gain, best gain: -inf\n",
            "[LightGBM] [Warning] No further splits with positive gain, best gain: -inf\n",
            "[LightGBM] [Warning] No further splits with positive gain, best gain: -inf\n",
            "[LightGBM] [Warning] No further splits with positive gain, best gain: -inf\n",
            "[LightGBM] [Warning] No further splits with positive gain, best gain: -inf\n",
            "[LightGBM] [Warning] No further splits with positive gain, best gain: -inf\n",
            "[LightGBM] [Warning] No further splits with positive gain, best gain: -inf\n",
            "[LightGBM] [Warning] No further splits with positive gain, best gain: -inf\n",
            "[LightGBM] [Warning] No further splits with positive gain, best gain: -inf\n",
            "[LightGBM] [Warning] No further splits with positive gain, best gain: -inf\n",
            "[LightGBM] [Warning] No further splits with positive gain, best gain: -inf\n",
            "[LightGBM] [Warning] No further splits with positive gain, best gain: -inf\n",
            "[LightGBM] [Warning] No further splits with positive gain, best gain: -inf\n",
            "[LightGBM] [Warning] No further splits with positive gain, best gain: -inf\n",
            "[LightGBM] [Warning] No further splits with positive gain, best gain: -inf\n",
            "[LightGBM] [Warning] No further splits with positive gain, best gain: -inf\n",
            "[LightGBM] [Warning] No further splits with positive gain, best gain: -inf\n",
            "[LightGBM] [Warning] No further splits with positive gain, best gain: -inf\n",
            "[LightGBM] [Warning] No further splits with positive gain, best gain: -inf\n",
            "[LightGBM] [Warning] No further splits with positive gain, best gain: -inf\n",
            "[LightGBM] [Warning] No further splits with positive gain, best gain: -inf\n",
            "[LightGBM] [Warning] No further splits with positive gain, best gain: -inf\n",
            "[LightGBM] [Warning] No further splits with positive gain, best gain: -inf\n",
            "[LightGBM] [Warning] No further splits with positive gain, best gain: -inf\n",
            "[LightGBM] [Warning] No further splits with positive gain, best gain: -inf\n",
            "[LightGBM] [Warning] No further splits with positive gain, best gain: -inf\n",
            "[LightGBM] [Warning] No further splits with positive gain, best gain: -inf\n",
            "[LightGBM] [Warning] No further splits with positive gain, best gain: -inf\n",
            "[LightGBM] [Warning] No further splits with positive gain, best gain: -inf\n",
            "[LightGBM] [Warning] No further splits with positive gain, best gain: -inf\n",
            "[LightGBM] [Warning] No further splits with positive gain, best gain: -inf\n",
            "[LightGBM] [Warning] No further splits with positive gain, best gain: -inf\n",
            "[LightGBM] [Warning] No further splits with positive gain, best gain: -inf\n",
            "[LightGBM] [Warning] No further splits with positive gain, best gain: -inf\n",
            "[LightGBM] [Warning] No further splits with positive gain, best gain: -inf\n",
            "[LightGBM] [Warning] No further splits with positive gain, best gain: -inf\n",
            "[LightGBM] [Warning] No further splits with positive gain, best gain: -inf\n",
            "[LightGBM] [Warning] No further splits with positive gain, best gain: -inf\n",
            "[LightGBM] [Warning] No further splits with positive gain, best gain: -inf\n",
            "[LightGBM] [Warning] No further splits with positive gain, best gain: -inf\n",
            "[LightGBM] [Warning] No further splits with positive gain, best gain: -inf\n",
            "[LightGBM] [Warning] No further splits with positive gain, best gain: -inf\n",
            "[LightGBM] [Warning] No further splits with positive gain, best gain: -inf\n",
            "[LightGBM] [Warning] No further splits with positive gain, best gain: -inf\n",
            "[LightGBM] [Warning] No further splits with positive gain, best gain: -inf\n",
            "[LightGBM] [Warning] No further splits with positive gain, best gain: -inf\n",
            "[LightGBM] [Warning] No further splits with positive gain, best gain: -inf\n",
            "[LightGBM] [Warning] No further splits with positive gain, best gain: -inf\n",
            "[LightGBM] [Warning] No further splits with positive gain, best gain: -inf\n",
            "[LightGBM] [Warning] No further splits with positive gain, best gain: -inf\n",
            "[LightGBM] [Warning] No further splits with positive gain, best gain: -inf\n",
            "[LightGBM] [Warning] No further splits with positive gain, best gain: -inf\n",
            "[LightGBM] [Warning] No further splits with positive gain, best gain: -inf\n",
            "[LightGBM] [Warning] No further splits with positive gain, best gain: -inf\n",
            "[LightGBM] [Warning] No further splits with positive gain, best gain: -inf\n",
            "[LightGBM] [Warning] No further splits with positive gain, best gain: -inf\n",
            "[LightGBM] [Warning] No further splits with positive gain, best gain: -inf\n"
          ]
        },
        {
          "data": {
            "text/plain": [
              "(0.9283967830157059, 0.5836586386164302)"
            ]
          },
          "execution_count": 214,
          "metadata": {},
          "output_type": "execute_result"
        }
      ],
      "source": [
        "lgbm = LGBMRegressor(random_state=51)\n",
        "# y_train, y_test, y_pred = eval_on_features(X_owned, y_owned, n_train, lgbm)\n",
        "\n",
        "X_train, X_test, y_train, y_test = train_test_split(X_owned, y_owned, random_state=52)\n",
        "\n",
        "lgbm.fit(X_train, y_train)\n",
        "\n",
        "y_pred = lgbm.predict(X_test)\n",
        "\n",
        "lgbm.score(X_train, y_train), lgbm.score(X_test, y_test)"
      ]
    },
    {
      "cell_type": "code",
      "execution_count": null,
      "id": "e0f42088",
      "metadata": {
        "id": "e0f42088",
        "outputId": "439780a0-f4a6-48db-c4db-d9d5c3f2f436"
      },
      "outputs": [
        {
          "name": "stdout",
          "output_type": "stream",
          "text": [
            "Max Error:  3612.571\n",
            "Mean Absolute Error:  1432.398\n",
            "Root Mean Squared Error:  1753.225\n",
            "R-Squared:  0.584\n"
          ]
        }
      ],
      "source": [
        "show_reg_result(y_test,y_pred)"
      ]
    },
    {
      "cell_type": "markdown",
      "id": "5b8155b9",
      "metadata": {
        "id": "5b8155b9"
      },
      "source": [
        "### 3-3) RandomForest"
      ]
    },
    {
      "cell_type": "code",
      "execution_count": null,
      "id": "e00a2e46",
      "metadata": {
        "id": "e00a2e46",
        "outputId": "63b3883f-779b-4341-a643-6ffd67197e59"
      },
      "outputs": [
        {
          "data": {
            "text/plain": [
              "(0.9728528521451416, 0.5643484347917285)"
            ]
          },
          "execution_count": 243,
          "metadata": {},
          "output_type": "execute_result"
        }
      ],
      "source": [
        "rf = RandomForestRegressor(n_estimators=10, random_state=53)\n",
        "# y_train, y_test, y_pred = eval_on_features(X_owned, y_owned, n_train, rf)\n",
        "\n",
        "X_train, X_test, y_train, y_test = train_test_split(X_owned, y_owned,  random_state=54)\n",
        "\n",
        "rf.fit(X_train, y_train)\n",
        "\n",
        "y_pred = rf.predict(X_test)\n",
        "\n",
        "rf.score(X_train, y_train), rf.score(X_test, y_test)"
      ]
    },
    {
      "cell_type": "code",
      "execution_count": null,
      "id": "0d68df14",
      "metadata": {
        "scrolled": true,
        "id": "0d68df14",
        "outputId": "e00ff3e4-8436-4f7f-a98d-0d9113589549"
      },
      "outputs": [
        {
          "name": "stdout",
          "output_type": "stream",
          "text": [
            "Max Error:  3414.3\n",
            "Mean Absolute Error:  1075.731\n",
            "Root Mean Squared Error:  1415.468\n",
            "R-Squared:  0.564\n"
          ]
        }
      ],
      "source": [
        "show_reg_result(y_test,y_pred)"
      ]
    },
    {
      "cell_type": "code",
      "execution_count": null,
      "id": "d27bb59a",
      "metadata": {
        "id": "d27bb59a",
        "outputId": "d9bbe36d-180d-4298-8b12-bcf241fb2d59"
      },
      "outputs": [
        {
          "data": {
            "image/png": "[encoded data removed]",
            "text/plain": [
              "<Figure size 800x500 with 1 Axes>"
            ]
          },
          "metadata": {},
          "output_type": "display_data"
        }
      ],
      "source": [
        "plot_feature_weight(X_owned.columns, rf.feature_importances_, N=10)"
      ]
    },
    {
      "cell_type": "markdown",
      "id": "7dab3835",
      "metadata": {
        "id": "7dab3835"
      },
      "source": [
        "### 3-4) SVM"
      ]
    },
    {
      "cell_type": "code",
      "execution_count": null,
      "id": "70876fb2",
      "metadata": {
        "id": "70876fb2",
        "outputId": "d3fcaf78-d613-4fbf-9ed7-b8b6be81c7c2"
      },
      "outputs": [
        {
          "data": {
            "text/plain": [
              "(1.0, 0.0)"
            ]
          },
          "execution_count": 217,
          "metadata": {},
          "output_type": "execute_result"
        }
      ],
      "source": [
        "from sklearn.svm import LinearSVC\n",
        "\n",
        "svm = SVC(gamma=10, C=0.001)\n",
        "# y_train, y_test, y_pred = eval_on_features(X_owned, y_owned, n_train, rf)\n",
        "\n",
        "X_train, X_test, y_train, y_test = train_test_split(X_owned, y_owned,  random_state=61)\n",
        "\n",
        "svm.fit(X_train, y_train)\n",
        "\n",
        "y_pred = svm.predict(X_test)\n",
        "\n",
        "svm.score(X_train, y_train), svm.score(X_test, y_test)"
      ]
    },
    {
      "cell_type": "code",
      "execution_count": null,
      "id": "c685435a",
      "metadata": {
        "id": "c685435a",
        "outputId": "eb34ab19-4062-4be9-dc65-095e91f6a177"
      },
      "outputs": [
        {
          "name": "stdout",
          "output_type": "stream",
          "text": [
            "Max Error:  11974\n",
            "Mean Absolute Error:  8923.038\n",
            "Root Mean Squared Error:  9162.596\n",
            "R-Squared:  -18.377\n"
          ]
        }
      ],
      "source": [
        "show_reg_result(y_test,y_pred)"
      ]
    },
    {
      "cell_type": "markdown",
      "id": "0a216101",
      "metadata": {
        "id": "0a216101"
      },
      "source": [
        "#\n",
        "# 4. 모델 테스트 (용선)"
      ]
    },
    {
      "cell_type": "code",
      "execution_count": null,
      "id": "fb171528",
      "metadata": {
        "id": "fb171528"
      },
      "outputs": [],
      "source": [
        "df_tc = data_tc.copy()"
      ]
    },
    {
      "cell_type": "markdown",
      "id": "c14fb966",
      "metadata": {
        "id": "c14fb966"
      },
      "source": [
        "### * 훈련 데이터/테스트 데이터를 통한 시각화 Function"
      ]
    },
    {
      "cell_type": "code",
      "execution_count": null,
      "id": "bee7513d",
      "metadata": {
        "id": "bee7513d"
      },
      "outputs": [],
      "source": [
        "import matplotlib.pyplot as plt\n",
        "from sklearn.model_selection import train_test_split\n",
        "\n",
        "def eval_on_features(features, target, n_train, model):\n",
        "\n",
        "    X = df_tc.index.astype(\"int64\").values.reshape(-1, 1)\n",
        "    xticks = pd.date_range(start=df_tc.index.min(), end=df_tc.index.max(), freq='M')\n",
        "    #print(xticks)\n",
        "\n",
        "    # 년도와 월을 추출하여 xticks_name을 생성합니다.\n",
        "    xticks_name = [date.strftime(\"%Y-%m\") for date in xticks]\n",
        "    #month = [\"Jan\", \"Feb\", \"Mar\",\"Apr\", \"May\", \"Jun\", \"Jul\", \"Aug\", 'Oct', 'Sep', 'Nov', 'Dec']\n",
        "    #xticks_name = [month[int(m)]+d for m, d in zip(xticks.strftime(\"%m\"),xticks.strftime(\" %m-%d\"))]\n",
        "    #plt.xticks(xticks, xticks_name, rotation=90, ha='left')\n",
        "    #print(xticks_name)\n",
        "\n",
        "    X_train, X_test = features[:n_train], features[n_train:]\n",
        "    y_train, y_test = target[:n_train], target[n_train:]\n",
        "    #X_train, X_test, y_train, y_test = train_test_split(features, target, test_size=n_train, shuffle=False)\n",
        "\n",
        "    model.fit(X_train, y_train)\n",
        "    print('Train : {:.2f}'.format(model.score(X_train, y_train)))\n",
        "    print('Test : {:.2f}'.format(model.score(X_test, y_test)))\n",
        "\n",
        "    y_pred = model.predict(X_test)\n",
        "    y_pred_train = model.predict(X_train)\n",
        "    plt.figure(figsize=(12, 5))\n",
        "\n",
        "    #plt.xticks(range(0, len(xticks_name), 8), xticks_name, rotation=90, ha=\"left\")\n",
        "\n",
        "    plt.plot(range(n_train), y_train, label=\"Train\")\n",
        "    plt.plot(range(n_train, len(y_test) + n_train), y_test, '-', label=\"Test\")\n",
        "    plt.plot(range(n_train), y_pred_train, '--', label=\"Train Pred\")\n",
        "    plt.plot(range(n_train, len(y_test) + n_train), y_pred, '--', label=\"Test Pred\")\n",
        "\n",
        "    plt.legend(loc='best')\n",
        "    plt.title(model)\n",
        "    plt.xlabel(\"Date\")\n",
        "    plt.ylabel(\"Daily C/B\")\n",
        "\n",
        "    return y_train, y_test, y_pred"
      ]
    },
    {
      "cell_type": "code",
      "execution_count": null,
      "id": "048c490b",
      "metadata": {
        "id": "048c490b",
        "outputId": "36bb49f9-6537-4fe2-c4b4-137903a18c79"
      },
      "outputs": [
        {
          "data": {
            "text/plain": [
              "((92, 44), (92,))"
            ]
          },
          "execution_count": 222,
          "metadata": {},
          "output_type": "execute_result"
        }
      ],
      "source": [
        "X_tc = df_tc.drop('DAY_CB', axis=1)\n",
        "y_tc = df_tc.DAY_CB\n",
        "\n",
        "n_train = int(len(X_tc)*0.75)\n",
        "\n",
        "X_tc.shape, y_tc.shape"
      ]
    },
    {
      "cell_type": "markdown",
      "id": "a096de12",
      "metadata": {
        "id": "a096de12"
      },
      "source": [
        "### 4-1) LinearRegression"
      ]
    },
    {
      "cell_type": "code",
      "execution_count": null,
      "id": "cc6dd721",
      "metadata": {
        "id": "cc6dd721",
        "outputId": "0f3be83b-e2fc-4cb6-e3fa-4a59cc6936f6"
      },
      "outputs": [
        {
          "data": {
            "text/plain": [
              "(0.9985684748526757, 0.965360689844389)"
            ]
          },
          "execution_count": 252,
          "metadata": {},
          "output_type": "execute_result"
        }
      ],
      "source": [
        "from sklearn.linear_model import LinearRegression\n",
        "\n",
        "#y_train, y_test, y_pred = eval_on_features(X_owned, y_owned, n_train, LinearRegression())\n",
        "\n",
        "X_train, X_test, y_train, y_test = train_test_split(X_tc, y_tc, random_state=1)\n",
        "\n",
        "lr = LinearRegression()\n",
        "lr.fit(X_train, y_train)\n",
        "\n",
        "y_pred = lr.predict(X_test)\n",
        "\n",
        "lr.score(X_train, y_train), lr.score(X_test, y_test)"
      ]
    },
    {
      "cell_type": "code",
      "execution_count": null,
      "id": "0900f285",
      "metadata": {
        "id": "0900f285",
        "outputId": "f2ca264f-efd8-4337-dfa1-3a3bb9a3c1af"
      },
      "outputs": [
        {
          "name": "stdout",
          "output_type": "stream",
          "text": [
            "Max Error:  2238.191\n",
            "Mean Absolute Error:  967.219\n",
            "Root Mean Squared Error:  1116.792\n",
            "R-Squared:  0.965\n"
          ]
        }
      ],
      "source": [
        "show_reg_result(y_test,y_pred)"
      ]
    },
    {
      "cell_type": "markdown",
      "id": "c5d32ff9",
      "metadata": {
        "id": "c5d32ff9"
      },
      "source": [
        "### 4-2) LGBMRegressor"
      ]
    },
    {
      "cell_type": "code",
      "execution_count": null,
      "id": "c34e2015",
      "metadata": {
        "id": "c34e2015",
        "outputId": "8b5bf44f-cec3-494f-bf38-ef08c56d78df"
      },
      "outputs": [
        {
          "name": "stdout",
          "output_type": "stream",
          "text": [
            "[LightGBM] [Info] Auto-choosing col-wise multi-threading, the overhead of testing was 0.000109 seconds.\n",
            "You can set `force_col_wise=true` to remove the overhead.\n",
            "[LightGBM] [Info] Total Bins 1065\n",
            "[LightGBM] [Info] Number of data points in the train set: 69, number of used features: 44\n",
            "[LightGBM] [Info] Start training from score 13549.028986\n",
            "[LightGBM] [Warning] No further splits with positive gain, best gain: -inf\n",
            "[LightGBM] [Warning] No further splits with positive gain, best gain: -inf\n",
            "[LightGBM] [Warning] No further splits with positive gain, best gain: -inf\n",
            "[LightGBM] [Warning] No further splits with positive gain, best gain: -inf\n",
            "[LightGBM] [Warning] No further splits with positive gain, best gain: -inf\n",
            "[LightGBM] [Warning] No further splits with positive gain, best gain: -inf\n",
            "[LightGBM] [Warning] No further splits with positive gain, best gain: -inf\n",
            "[LightGBM] [Warning] No further splits with positive gain, best gain: -inf\n",
            "[LightGBM] [Warning] No further splits with positive gain, best gain: -inf\n",
            "[LightGBM] [Warning] No further splits with positive gain, best gain: -inf\n",
            "[LightGBM] [Warning] No further splits with positive gain, best gain: -inf\n",
            "[LightGBM] [Warning] No further splits with positive gain, best gain: -inf\n",
            "[LightGBM] [Warning] No further splits with positive gain, best gain: -inf\n",
            "[LightGBM] [Warning] No further splits with positive gain, best gain: -inf\n",
            "[LightGBM] [Warning] No further splits with positive gain, best gain: -inf\n",
            "[LightGBM] [Warning] No further splits with positive gain, best gain: -inf\n",
            "[LightGBM] [Warning] No further splits with positive gain, best gain: -inf\n",
            "[LightGBM] [Warning] No further splits with positive gain, best gain: -inf\n",
            "[LightGBM] [Warning] No further splits with positive gain, best gain: -inf\n",
            "[LightGBM] [Warning] No further splits with positive gain, best gain: -inf\n",
            "[LightGBM] [Warning] No further splits with positive gain, best gain: -inf\n",
            "[LightGBM] [Warning] No further splits with positive gain, best gain: -inf\n",
            "[LightGBM] [Warning] No further splits with positive gain, best gain: -inf\n",
            "[LightGBM] [Warning] No further splits with positive gain, best gain: -inf\n",
            "[LightGBM] [Warning] No further splits with positive gain, best gain: -inf\n",
            "[LightGBM] [Warning] No further splits with positive gain, best gain: -inf\n",
            "[LightGBM] [Warning] No further splits with positive gain, best gain: -inf\n",
            "[LightGBM] [Warning] No further splits with positive gain, best gain: -inf\n",
            "[LightGBM] [Warning] No further splits with positive gain, best gain: -inf\n",
            "[LightGBM] [Warning] No further splits with positive gain, best gain: -inf\n",
            "[LightGBM] [Warning] No further splits with positive gain, best gain: -inf\n",
            "[LightGBM] [Warning] No further splits with positive gain, best gain: -inf\n",
            "[LightGBM] [Warning] No further splits with positive gain, best gain: -inf\n",
            "[LightGBM] [Warning] No further splits with positive gain, best gain: -inf\n",
            "[LightGBM] [Warning] No further splits with positive gain, best gain: -inf\n",
            "[LightGBM] [Warning] No further splits with positive gain, best gain: -inf\n",
            "[LightGBM] [Warning] No further splits with positive gain, best gain: -inf\n",
            "[LightGBM] [Warning] No further splits with positive gain, best gain: -inf\n",
            "[LightGBM] [Warning] No further splits with positive gain, best gain: -inf\n",
            "[LightGBM] [Warning] No further splits with positive gain, best gain: -inf\n",
            "[LightGBM] [Warning] No further splits with positive gain, best gain: -inf\n",
            "[LightGBM] [Warning] No further splits with positive gain, best gain: -inf\n",
            "[LightGBM] [Warning] No further splits with positive gain, best gain: -inf\n",
            "[LightGBM] [Warning] No further splits with positive gain, best gain: -inf\n",
            "[LightGBM] [Warning] No further splits with positive gain, best gain: -inf\n",
            "[LightGBM] [Warning] No further splits with positive gain, best gain: -inf\n",
            "[LightGBM] [Warning] No further splits with positive gain, best gain: -inf\n",
            "[LightGBM] [Warning] No further splits with positive gain, best gain: -inf\n",
            "[LightGBM] [Warning] No further splits with positive gain, best gain: -inf\n",
            "[LightGBM] [Warning] No further splits with positive gain, best gain: -inf\n",
            "[LightGBM] [Warning] No further splits with positive gain, best gain: -inf\n",
            "[LightGBM] [Warning] No further splits with positive gain, best gain: -inf\n",
            "[LightGBM] [Warning] No further splits with positive gain, best gain: -inf\n",
            "[LightGBM] [Warning] No further splits with positive gain, best gain: -inf\n",
            "[LightGBM] [Warning] No further splits with positive gain, best gain: -inf\n",
            "[LightGBM] [Warning] No further splits with positive gain, best gain: -inf\n",
            "[LightGBM] [Warning] No further splits with positive gain, best gain: -inf\n",
            "[LightGBM] [Warning] No further splits with positive gain, best gain: -inf\n",
            "[LightGBM] [Warning] No further splits with positive gain, best gain: -inf\n",
            "[LightGBM] [Warning] No further splits with positive gain, best gain: -inf\n",
            "[LightGBM] [Warning] No further splits with positive gain, best gain: -inf\n",
            "[LightGBM] [Warning] No further splits with positive gain, best gain: -inf\n",
            "[LightGBM] [Warning] No further splits with positive gain, best gain: -inf\n",
            "[LightGBM] [Warning] No further splits with positive gain, best gain: -inf\n",
            "[LightGBM] [Warning] No further splits with positive gain, best gain: -inf\n",
            "[LightGBM] [Warning] No further splits with positive gain, best gain: -inf\n",
            "[LightGBM] [Warning] No further splits with positive gain, best gain: -inf\n",
            "[LightGBM] [Warning] No further splits with positive gain, best gain: -inf\n",
            "[LightGBM] [Warning] No further splits with positive gain, best gain: -inf\n",
            "[LightGBM] [Warning] No further splits with positive gain, best gain: -inf\n",
            "[LightGBM] [Warning] No further splits with positive gain, best gain: -inf\n",
            "[LightGBM] [Warning] No further splits with positive gain, best gain: -inf\n",
            "[LightGBM] [Warning] No further splits with positive gain, best gain: -inf\n",
            "[LightGBM] [Warning] No further splits with positive gain, best gain: -inf\n",
            "[LightGBM] [Warning] No further splits with positive gain, best gain: -inf\n",
            "[LightGBM] [Warning] No further splits with positive gain, best gain: -inf\n",
            "[LightGBM] [Warning] No further splits with positive gain, best gain: -inf\n",
            "[LightGBM] [Warning] No further splits with positive gain, best gain: -inf\n",
            "[LightGBM] [Warning] No further splits with positive gain, best gain: -inf\n",
            "[LightGBM] [Warning] No further splits with positive gain, best gain: -inf\n",
            "[LightGBM] [Warning] No further splits with positive gain, best gain: -inf\n",
            "[LightGBM] [Warning] No further splits with positive gain, best gain: -inf\n",
            "[LightGBM] [Warning] No further splits with positive gain, best gain: -inf\n",
            "[LightGBM] [Warning] No further splits with positive gain, best gain: -inf\n",
            "[LightGBM] [Warning] No further splits with positive gain, best gain: -inf\n",
            "[LightGBM] [Warning] No further splits with positive gain, best gain: -inf\n",
            "[LightGBM] [Warning] No further splits with positive gain, best gain: -inf\n",
            "[LightGBM] [Warning] No further splits with positive gain, best gain: -inf\n",
            "[LightGBM] [Warning] No further splits with positive gain, best gain: -inf\n",
            "[LightGBM] [Warning] No further splits with positive gain, best gain: -inf\n",
            "[LightGBM] [Warning] No further splits with positive gain, best gain: -inf\n",
            "[LightGBM] [Warning] No further splits with positive gain, best gain: -inf\n",
            "[LightGBM] [Warning] No further splits with positive gain, best gain: -inf\n",
            "[LightGBM] [Warning] No further splits with positive gain, best gain: -inf\n",
            "[LightGBM] [Warning] No further splits with positive gain, best gain: -inf\n",
            "[LightGBM] [Warning] No further splits with positive gain, best gain: -inf\n",
            "[LightGBM] [Warning] No further splits with positive gain, best gain: -inf\n",
            "[LightGBM] [Warning] No further splits with positive gain, best gain: -inf\n",
            "[LightGBM] [Warning] No further splits with positive gain, best gain: -inf\n",
            "[LightGBM] [Warning] No further splits with positive gain, best gain: -inf\n"
          ]
        },
        {
          "data": {
            "text/plain": [
              "(0.9485963337310512, 0.8595308420074124)"
            ]
          },
          "execution_count": 229,
          "metadata": {},
          "output_type": "execute_result"
        }
      ],
      "source": [
        "lgbm = LGBMRegressor(random_state=51)\n",
        "# y_train, y_test, y_pred = eval_on_features(X_owned, y_owned, n_train, lgbm)\n",
        "\n",
        "X_train, X_test, y_train, y_test = train_test_split(X_tc, y_tc, random_state=52)\n",
        "\n",
        "lgbm.fit(X_train, y_train)\n",
        "\n",
        "y_pred = lgbm.predict(X_test)\n",
        "\n",
        "lgbm.score(X_train, y_train), lgbm.score(X_test, y_test)"
      ]
    },
    {
      "cell_type": "code",
      "execution_count": null,
      "id": "75f4d5c9",
      "metadata": {
        "id": "75f4d5c9",
        "outputId": "e30dcd65-be0c-4075-e1a8-b39c8c72c21d"
      },
      "outputs": [
        {
          "name": "stdout",
          "output_type": "stream",
          "text": [
            "Max Error:  7082.433\n",
            "Mean Absolute Error:  2454.027\n",
            "Root Mean Squared Error:  3072.417\n",
            "R-Squared:  0.86\n"
          ]
        }
      ],
      "source": [
        "show_reg_result(y_test,y_pred)"
      ]
    },
    {
      "cell_type": "markdown",
      "id": "7780d2bc",
      "metadata": {
        "id": "7780d2bc"
      },
      "source": [
        "### 4-3) RandomForest"
      ]
    },
    {
      "cell_type": "code",
      "execution_count": null,
      "id": "39e83a46",
      "metadata": {
        "id": "39e83a46",
        "outputId": "ed37be03-2a53-46f7-d42d-f613053b01b8"
      },
      "outputs": [
        {
          "data": {
            "text/plain": [
              "(0.9890700841426956, 0.800493271796804)"
            ]
          },
          "execution_count": 235,
          "metadata": {},
          "output_type": "execute_result"
        }
      ],
      "source": [
        "rf = RandomForestRegressor(n_estimators=10, random_state=53)\n",
        "# y_train, y_test, y_pred = eval_on_features(X_owned, y_owned, n_train, rf)\n",
        "\n",
        "X_train, X_test, y_train, y_test = train_test_split(X_tc, y_tc,  random_state=54)\n",
        "\n",
        "rf.fit(X_train, y_train)\n",
        "\n",
        "y_pred = rf.predict(X_test)\n",
        "\n",
        "rf.score(X_train, y_train), rf.score(X_test, y_test)"
      ]
    },
    {
      "cell_type": "code",
      "execution_count": null,
      "id": "aa86a291",
      "metadata": {
        "id": "aa86a291",
        "outputId": "cd578dd0-396a-4548-ed22-3554f5d7bce4"
      },
      "outputs": [
        {
          "name": "stdout",
          "output_type": "stream",
          "text": [
            "Max Error:  9327.2\n",
            "Mean Absolute Error:  2129.448\n",
            "Root Mean Squared Error:  3348.818\n",
            "R-Squared:  0.8\n"
          ]
        }
      ],
      "source": [
        "show_reg_result(y_test,y_pred)"
      ]
    },
    {
      "cell_type": "code",
      "execution_count": null,
      "id": "37c0418c",
      "metadata": {
        "id": "37c0418c",
        "outputId": "9abd1bd0-be58-444a-da38-d1bf5ba66e21"
      },
      "outputs": [
        {
          "data": {
            "image/png": "[encoded data removed]",
            "text/plain": [
              "<Figure size 800x500 with 1 Axes>"
            ]
          },
          "metadata": {},
          "output_type": "display_data"
        }
      ],
      "source": [
        "plot_feature_weight(X_tc.columns, rf.feature_importances_, N=10)"
      ]
    },
    {
      "cell_type": "markdown",
      "id": "096150d7",
      "metadata": {
        "id": "096150d7"
      },
      "source": [
        "### 4-4) SVM"
      ]
    },
    {
      "cell_type": "code",
      "execution_count": null,
      "id": "e80d1f8b",
      "metadata": {
        "id": "e80d1f8b",
        "outputId": "8da2b3a8-bbfc-4f39-ea36-bdd83b4bf5de"
      },
      "outputs": [
        {
          "data": {
            "text/plain": [
              "(0.028985507246376812, 0.0)"
            ]
          },
          "execution_count": 233,
          "metadata": {},
          "output_type": "execute_result"
        }
      ],
      "source": [
        "from sklearn.svm import LinearSVC\n",
        "\n",
        "svm = SVC(gamma=10, C=0.001)\n",
        "# y_train, y_test, y_pred = eval_on_features(X_owned, y_owned, n_train, rf)\n",
        "\n",
        "X_train, X_test, y_train, y_test = train_test_split(X_tc, y_tc,  random_state=61)\n",
        "\n",
        "svm.fit(X_train, y_train)\n",
        "\n",
        "y_pred = svm.predict(X_test)\n",
        "\n",
        "svm.score(X_train, y_train), svm.score(X_test, y_test)"
      ]
    },
    {
      "cell_type": "code",
      "execution_count": null,
      "id": "7ade88a7",
      "metadata": {
        "id": "7ade88a7",
        "outputId": "0c8eff0b-d6e0-49d3-c1a7-96129ea1e3d5"
      },
      "outputs": [
        {
          "name": "stdout",
          "output_type": "stream",
          "text": [
            "Max Error:  22486\n",
            "Mean Absolute Error:  5713.174\n",
            "Root Mean Squared Error:  7813.509\n",
            "R-Squared:  -0.892\n"
          ]
        }
      ],
      "source": [
        "show_reg_result(y_test,y_pred)"
      ]
    },
    {
      "cell_type": "code",
      "execution_count": null,
      "id": "5adc5dd8",
      "metadata": {
        "id": "5adc5dd8"
      },
      "outputs": [],
      "source": []
    }
  ],
  "metadata": {
    "kernelspec": {
      "display_name": "Python 3 (ipykernel)",
      "language": "python",
      "name": "python3"
    },
    "language_info": {
      "codemirror_mode": {
        "name": "ipython",
        "version": 3
      },
      "file_extension": ".py",
      "mimetype": "text/x-python",
      "name": "python",
      "nbconvert_exporter": "python",
      "pygments_lexer": "ipython3",
      "version": "3.11.4"
    },
    "colab": {
      "provenance": []
    }
  },
  "nbformat": 4,
  "nbformat_minor": 5
}